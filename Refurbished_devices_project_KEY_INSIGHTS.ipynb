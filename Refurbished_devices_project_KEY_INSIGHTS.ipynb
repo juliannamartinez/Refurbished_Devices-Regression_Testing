{
 "cells": [
  {
   "cell_type": "markdown",
   "id": "d92db24f",
   "metadata": {},
   "source": [
    "# Supervised Learning - Refurbished Devices Pricing \n",
    " \n",
    "### Objective\n",
    "The used device data will be analyzed and used to build a linear regression model to predict the price of a used phone/tablet and identify factors that significantly influence it."
   ]
  },
  {
   "cell_type": "code",
   "execution_count": 1,
   "id": "acb16b18",
   "metadata": {},
   "outputs": [],
   "source": [
    "import numpy as np\n",
    "import pandas as pd\n",
    "import matplotlib.pyplot as plt\n",
    "import seaborn as sns\n",
    "\n",
    "pd.set_option('display.max_columns', None)\n",
    "pd.set_option('display.max_rows', None)\n",
    "sns.set()\n",
    "\n",
    "from sklearn.model_selection import train_test_split\n",
    "from sklearn.linear_model import LinearRegression\n",
    "from sklearn.metrics import mean_absolute_error, mean_squared_error, r2_score\n",
    "import statsmodels.api as sm\n",
    "from statsmodels.stats.outliers_influence import variance_inflation_factor\n",
    "\n",
    "#for QQ plots:\n",
    "import pylab\n",
    "import scipy.stats as stats\n",
    "\n",
    "#for Goldfeldquandt test: \n",
    "import statsmodels.stats.api as sms\n",
    "from statsmodels.compat import lzip"
   ]
  },
  {
   "cell_type": "markdown",
   "id": "be4f1a89",
   "metadata": {},
   "source": [
    "## Data Overview"
   ]
  },
  {
   "cell_type": "code",
   "execution_count": 2,
   "id": "2277eda9",
   "metadata": {},
   "outputs": [],
   "source": [
    "data = pd.read_csv(\"used_device_data.csv\")"
   ]
  },
  {
   "cell_type": "code",
   "execution_count": 3,
   "id": "4a8c66e7",
   "metadata": {},
   "outputs": [],
   "source": [
    "df = data.copy()"
   ]
  },
  {
   "cell_type": "markdown",
   "id": "511131ff",
   "metadata": {},
   "source": [
    "## Exploratory Data Analysis\n",
    "\n",
    "<b>Questions</b>:\n",
    "1. What does the distribution of used device prices look like?\n",
    "2. What percentage of the used device market is dominated by Android devices?\n",
    "3. The amount of RAM is important for the smooth functioning of a device. How does the amount of RAM vary with the brand?\n",
    "4. A large battery often increases a device's weight, making it feel uncomfortable in the hands. How does the weight vary for phones and tablets offering large batteries (more than 4500 mAh)?\n",
    "5. Bigger screens are desirable for entertainment purposes as they offer a better viewing experience. How many phones and tablets are available across different brands with a screen size larger than 6 inches?\n",
    "6. Budget devices nowadays offer great selfie cameras, allowing us to capture our favorite moments with loved ones. What is the distribution of budget devices offering greater than 8MP selfie cameras across brands?\n",
    "7. Which attributes are highly correlated with the price of a used device?"
   ]
  },
  {
   "cell_type": "code",
   "execution_count": 4,
   "id": "d0d60aaf",
   "metadata": {},
   "outputs": [
    {
     "data": {
      "text/html": [
       "<div>\n",
       "<style scoped>\n",
       "    .dataframe tbody tr th:only-of-type {\n",
       "        vertical-align: middle;\n",
       "    }\n",
       "\n",
       "    .dataframe tbody tr th {\n",
       "        vertical-align: top;\n",
       "    }\n",
       "\n",
       "    .dataframe thead th {\n",
       "        text-align: right;\n",
       "    }\n",
       "</style>\n",
       "<table border=\"1\" class=\"dataframe\">\n",
       "  <thead>\n",
       "    <tr style=\"text-align: right;\">\n",
       "      <th></th>\n",
       "      <th>count</th>\n",
       "      <th>mean</th>\n",
       "      <th>std</th>\n",
       "      <th>min</th>\n",
       "      <th>25%</th>\n",
       "      <th>50%</th>\n",
       "      <th>75%</th>\n",
       "      <th>max</th>\n",
       "    </tr>\n",
       "  </thead>\n",
       "  <tbody>\n",
       "    <tr>\n",
       "      <th>screen_size</th>\n",
       "      <td>3454.0</td>\n",
       "      <td>13.713115</td>\n",
       "      <td>3.805280</td>\n",
       "      <td>5.08</td>\n",
       "      <td>12.7000</td>\n",
       "      <td>12.830</td>\n",
       "      <td>15.340</td>\n",
       "      <td>30.71</td>\n",
       "    </tr>\n",
       "    <tr>\n",
       "      <th>main_camera_mp</th>\n",
       "      <td>3275.0</td>\n",
       "      <td>9.460208</td>\n",
       "      <td>4.815461</td>\n",
       "      <td>0.08</td>\n",
       "      <td>5.0000</td>\n",
       "      <td>8.000</td>\n",
       "      <td>13.000</td>\n",
       "      <td>48.00</td>\n",
       "    </tr>\n",
       "    <tr>\n",
       "      <th>selfie_camera_mp</th>\n",
       "      <td>3452.0</td>\n",
       "      <td>6.554229</td>\n",
       "      <td>6.970372</td>\n",
       "      <td>0.00</td>\n",
       "      <td>2.0000</td>\n",
       "      <td>5.000</td>\n",
       "      <td>8.000</td>\n",
       "      <td>32.00</td>\n",
       "    </tr>\n",
       "    <tr>\n",
       "      <th>int_memory</th>\n",
       "      <td>3450.0</td>\n",
       "      <td>54.573099</td>\n",
       "      <td>84.972371</td>\n",
       "      <td>0.01</td>\n",
       "      <td>16.0000</td>\n",
       "      <td>32.000</td>\n",
       "      <td>64.000</td>\n",
       "      <td>1024.00</td>\n",
       "    </tr>\n",
       "    <tr>\n",
       "      <th>ram</th>\n",
       "      <td>3450.0</td>\n",
       "      <td>4.036122</td>\n",
       "      <td>1.365105</td>\n",
       "      <td>0.02</td>\n",
       "      <td>4.0000</td>\n",
       "      <td>4.000</td>\n",
       "      <td>4.000</td>\n",
       "      <td>12.00</td>\n",
       "    </tr>\n",
       "    <tr>\n",
       "      <th>battery</th>\n",
       "      <td>3448.0</td>\n",
       "      <td>3133.402697</td>\n",
       "      <td>1299.682844</td>\n",
       "      <td>500.00</td>\n",
       "      <td>2100.0000</td>\n",
       "      <td>3000.000</td>\n",
       "      <td>4000.000</td>\n",
       "      <td>9720.00</td>\n",
       "    </tr>\n",
       "    <tr>\n",
       "      <th>weight</th>\n",
       "      <td>3447.0</td>\n",
       "      <td>182.751871</td>\n",
       "      <td>88.413228</td>\n",
       "      <td>69.00</td>\n",
       "      <td>142.0000</td>\n",
       "      <td>160.000</td>\n",
       "      <td>185.000</td>\n",
       "      <td>855.00</td>\n",
       "    </tr>\n",
       "    <tr>\n",
       "      <th>release_year</th>\n",
       "      <td>3454.0</td>\n",
       "      <td>2015.965258</td>\n",
       "      <td>2.298455</td>\n",
       "      <td>2013.00</td>\n",
       "      <td>2014.0000</td>\n",
       "      <td>2015.500</td>\n",
       "      <td>2018.000</td>\n",
       "      <td>2020.00</td>\n",
       "    </tr>\n",
       "    <tr>\n",
       "      <th>days_used</th>\n",
       "      <td>3454.0</td>\n",
       "      <td>674.869716</td>\n",
       "      <td>248.580166</td>\n",
       "      <td>91.00</td>\n",
       "      <td>533.5000</td>\n",
       "      <td>690.500</td>\n",
       "      <td>868.750</td>\n",
       "      <td>1094.00</td>\n",
       "    </tr>\n",
       "    <tr>\n",
       "      <th>new_price</th>\n",
       "      <td>3454.0</td>\n",
       "      <td>237.038848</td>\n",
       "      <td>194.302782</td>\n",
       "      <td>18.20</td>\n",
       "      <td>120.3425</td>\n",
       "      <td>189.785</td>\n",
       "      <td>291.115</td>\n",
       "      <td>2560.20</td>\n",
       "    </tr>\n",
       "    <tr>\n",
       "      <th>used_price</th>\n",
       "      <td>3454.0</td>\n",
       "      <td>92.302936</td>\n",
       "      <td>54.701648</td>\n",
       "      <td>4.65</td>\n",
       "      <td>56.4825</td>\n",
       "      <td>81.870</td>\n",
       "      <td>116.245</td>\n",
       "      <td>749.52</td>\n",
       "    </tr>\n",
       "  </tbody>\n",
       "</table>\n",
       "</div>"
      ],
      "text/plain": [
       "                   count         mean          std      min        25%  \\\n",
       "screen_size       3454.0    13.713115     3.805280     5.08    12.7000   \n",
       "main_camera_mp    3275.0     9.460208     4.815461     0.08     5.0000   \n",
       "selfie_camera_mp  3452.0     6.554229     6.970372     0.00     2.0000   \n",
       "int_memory        3450.0    54.573099    84.972371     0.01    16.0000   \n",
       "ram               3450.0     4.036122     1.365105     0.02     4.0000   \n",
       "battery           3448.0  3133.402697  1299.682844   500.00  2100.0000   \n",
       "weight            3447.0   182.751871    88.413228    69.00   142.0000   \n",
       "release_year      3454.0  2015.965258     2.298455  2013.00  2014.0000   \n",
       "days_used         3454.0   674.869716   248.580166    91.00   533.5000   \n",
       "new_price         3454.0   237.038848   194.302782    18.20   120.3425   \n",
       "used_price        3454.0    92.302936    54.701648     4.65    56.4825   \n",
       "\n",
       "                       50%       75%      max  \n",
       "screen_size         12.830    15.340    30.71  \n",
       "main_camera_mp       8.000    13.000    48.00  \n",
       "selfie_camera_mp     5.000     8.000    32.00  \n",
       "int_memory          32.000    64.000  1024.00  \n",
       "ram                  4.000     4.000    12.00  \n",
       "battery           3000.000  4000.000  9720.00  \n",
       "weight             160.000   185.000   855.00  \n",
       "release_year      2015.500  2018.000  2020.00  \n",
       "days_used          690.500   868.750  1094.00  \n",
       "new_price          189.785   291.115  2560.20  \n",
       "used_price          81.870   116.245   749.52  "
      ]
     },
     "execution_count": 4,
     "metadata": {},
     "output_type": "execute_result"
    }
   ],
   "source": [
    "df.describe().T"
   ]
  },
  {
   "cell_type": "markdown",
   "id": "f4e0cd17",
   "metadata": {},
   "source": [
    "Observations: \n",
    "- This table contains the 5-point summary statistics for each numerical column within the dataset (integer and float types). This gives us the total count of values, the mean (average), standard deviation, the smallest value (min), the 1st/2nd/3rd quantile values, and the largest values (max). \n",
    "- We cannot calculate the summary statistics for columns with non-numerical data such as brand_name, os, 4g, 5g, and release_year. "
   ]
  },
  {
   "cell_type": "code",
   "execution_count": 5,
   "id": "36035146",
   "metadata": {},
   "outputs": [
    {
     "name": "stdout",
     "output_type": "stream",
     "text": [
      "<class 'pandas.core.frame.DataFrame'>\n",
      "RangeIndex: 3454 entries, 0 to 3453\n",
      "Data columns (total 15 columns):\n",
      " #   Column            Non-Null Count  Dtype   \n",
      "---  ------            --------------  -----   \n",
      " 0   brand_name        3454 non-null   object  \n",
      " 1   os                3454 non-null   category\n",
      " 2   screen_size       3454 non-null   float64 \n",
      " 3   4g                3454 non-null   category\n",
      " 4   5g                3454 non-null   category\n",
      " 5   main_camera_mp    3275 non-null   float64 \n",
      " 6   selfie_camera_mp  3452 non-null   float64 \n",
      " 7   int_memory        3450 non-null   float64 \n",
      " 8   ram               3450 non-null   float64 \n",
      " 9   battery           3448 non-null   float64 \n",
      " 10  weight            3447 non-null   float64 \n",
      " 11  release_year      3454 non-null   int64   \n",
      " 12  days_used         3454 non-null   int64   \n",
      " 13  new_price         3454 non-null   float64 \n",
      " 14  used_price        3454 non-null   float64 \n",
      "dtypes: category(3), float64(9), int64(2), object(1)\n",
      "memory usage: 334.5+ KB\n"
     ]
    }
   ],
   "source": [
    "#converting appropriate object type columns to category types to make the generation of dummy variables easier later\n",
    "categorical_variables = [\"os\", \"4g\", \"5g\"]\n",
    "\n",
    "for colname in categorical_variables:\n",
    "    df[colname] = df[colname].astype(\"category\")\n",
    "    \n",
    "df.info()"
   ]
  },
  {
   "cell_type": "code",
   "execution_count": 6,
   "id": "59c47166",
   "metadata": {},
   "outputs": [],
   "source": [
    "#log transforming used_price to make the distribution more normal\n",
    "df['used_price_log'] = np.log(df['used_price'])\n",
    "df['new_price_log'] = np.log(df['new_price'])"
   ]
  },
  {
   "cell_type": "markdown",
   "id": "b3bf1dce",
   "metadata": {},
   "source": [
    "### Bivariate Analysis\n",
    "#### Correlations"
   ]
  },
  {
   "cell_type": "code",
   "execution_count": 7,
   "id": "91f2ea94",
   "metadata": {},
   "outputs": [
    {
     "data": {
      "text/plain": [
       "screen_size         0.529275\n",
       "main_camera_mp      0.459209\n",
       "selfie_camera_mp    0.614675\n",
       "int_memory          0.378347\n",
       "ram                 0.529434\n",
       "battery             0.549647\n",
       "weight              0.357983\n",
       "release_year        0.494910\n",
       "days_used          -0.385777\n",
       "new_price           0.809335\n",
       "used_price          1.000000\n",
       "used_price_log      0.894738\n",
       "new_price_log       0.775425\n",
       "Name: used_price, dtype: float64"
      ]
     },
     "execution_count": 7,
     "metadata": {},
     "output_type": "execute_result"
    }
   ],
   "source": [
    "df[df.columns[:]].corr()[\"used_price\"][:]"
   ]
  },
  {
   "cell_type": "code",
   "execution_count": 8,
   "id": "8c357821",
   "metadata": {},
   "outputs": [
    {
     "data": {
      "image/png": "[encoded data removed]",
      "text/plain": [
       "<Figure size 1080x504 with 2 Axes>"
      ]
     },
     "metadata": {},
     "output_type": "display_data"
    }
   ],
   "source": [
    "numeric_columns = df.select_dtypes(include=np.number).columns.tolist()\n",
    "numeric_columns.remove(\"release_year\") #dropping year column because it is a temporal variable\n",
    "\n",
    "#correlation heatmap\n",
    "plt.figure(figsize=(15,7))\n",
    "sns.heatmap(\n",
    "    df[numeric_columns].corr(),\n",
    "    annot = True, \n",
    "    vmin = -1, \n",
    "    vmax = 1,\n",
    "    fmt = \".2f\",\n",
    "    cmap = \"Spectral\")\n",
    "plt.show()"
   ]
  },
  {
   "cell_type": "markdown",
   "id": "8828a65a",
   "metadata": {},
   "source": [
    "Observations: \n",
    "- battery and weight are particularly interesting. These are highly correlated with screen_size indicating that these may be traits that go together on many devices. These variables may be able to be grouped together for valuable insights. \n",
    "- Compared to our dependent variable (used_price), battery, screen_size, ram, selfie_camera_mp, and screen_size are the highest correlated. "
   ]
  },
  {
   "cell_type": "markdown",
   "id": "a3813de3",
   "metadata": {},
   "source": [
    "#### Boxplots and barplots"
   ]
  },
  {
   "cell_type": "code",
   "execution_count": 9,
   "id": "d20eee4e",
   "metadata": {},
   "outputs": [
    {
     "data": {
      "image/png": "[encoded data removed]",
      "text/plain": [
       "<Figure size 1080x360 with 1 Axes>"
      ]
     },
     "metadata": {},
     "output_type": "display_data"
    }
   ],
   "source": [
    "#brand_name vs ram\n",
    "plt.figure(figsize=(15, 5))\n",
    "sns.barplot(data=df, x=\"brand_name\", y=\"ram\")\n",
    "plt.xticks(rotation=60)\n",
    "plt.show()"
   ]
  },
  {
   "cell_type": "markdown",
   "id": "d1c29b97",
   "metadata": {},
   "source": [
    "<b>3. The amount of RAM is important for the smooth functioning of a device. How does the amount of RAM vary with the brand? </b>\n",
    "\n",
    "Observations: \n",
    "- The amount of RAM overall varies widely between brands. \n",
    "- OnePlus has the most RAM compared to any other brand available with a mean of approximately 6.3 GB. \n",
    "- Celkon has the least RAM compared to the other brands with a mean of approximately 1.5 GB. \n",
    "- Most brands seem to have a mean of about 2.5-5 GB of RAM overall. "
   ]
  },
  {
   "cell_type": "markdown",
   "id": "49ca2225",
   "metadata": {},
   "source": [
    "<b>6. Budget devices nowadays offer great selfie cameras, allowing us to capture our favorite moments with loved ones. What is the distribution of budget devices offering greater than 8MP selfie cameras across brands? </b>"
   ]
  },
  {
   "cell_type": "code",
   "execution_count": 10,
   "id": "9afa4689",
   "metadata": {},
   "outputs": [
    {
     "data": {
      "text/plain": [
       "(655, 17)"
      ]
     },
     "execution_count": 10,
     "metadata": {},
     "output_type": "execute_result"
    }
   ],
   "source": [
    "#creating a \"good front camera\" group\n",
    "\n",
    "good_selfie_cam = df[df.selfie_camera_mp > 8]\n",
    "good_selfie_cam.shape"
   ]
  },
  {
   "cell_type": "code",
   "execution_count": 11,
   "id": "fda70c67",
   "metadata": {},
   "outputs": [
    {
     "data": {
      "image/png": "[encoded data removed]",
      "text/plain": [
       "<Figure size 1080x504 with 1 Axes>"
      ]
     },
     "metadata": {},
     "output_type": "display_data"
    }
   ],
   "source": [
    "#comparing the devices with good selfie cameras by brand\n",
    "#using a countplot\n",
    "\n",
    "plt.figure(figsize=(15,7))\n",
    "sns.countplot(x= \"brand_name\", data=good_selfie_cam)\n",
    "plt.xticks(rotation = 90) #rotates the x-axis labels by 60 degrees\n",
    "plt.show()"
   ]
  },
  {
   "cell_type": "markdown",
   "id": "78b4fb4d",
   "metadata": {},
   "source": [
    "- It appears that the devices in our dataset that have good selfie cameras are not fully dominated by 1 brand.\n",
    "- Many brands offer good selfie cameras nowadays. So if a customer is looking for a device with a good selfie camera, they do not need to limit their search to one specific brand in order to find one. \n",
    "\n",
    "However, this does not give us much of an idea of the prices of the devices with good selfie camera by brand. To get a better idea of this, we can separate all of our devices in our df dataframe into price categories. Then we can make another histogram of brands with good selfie cameras and use our price categories as a hue. "
   ]
  },
  {
   "cell_type": "code",
   "execution_count": 12,
   "id": "e46ccac6",
   "metadata": {},
   "outputs": [
    {
     "name": "stdout",
     "output_type": "stream",
     "text": [
      "Budget       1844\n",
      "Mid-Range    1025\n",
      "Premium       585\n",
      "Name: device_category, dtype: int64\n"
     ]
    },
    {
     "data": {
      "text/html": [
       "<div>\n",
       "<style scoped>\n",
       "    .dataframe tbody tr th:only-of-type {\n",
       "        vertical-align: middle;\n",
       "    }\n",
       "\n",
       "    .dataframe tbody tr th {\n",
       "        vertical-align: top;\n",
       "    }\n",
       "\n",
       "    .dataframe thead th {\n",
       "        text-align: right;\n",
       "    }\n",
       "</style>\n",
       "<table border=\"1\" class=\"dataframe\">\n",
       "  <thead>\n",
       "    <tr style=\"text-align: right;\">\n",
       "      <th></th>\n",
       "      <th>brand_name</th>\n",
       "      <th>os</th>\n",
       "      <th>screen_size</th>\n",
       "      <th>4g</th>\n",
       "      <th>5g</th>\n",
       "      <th>main_camera_mp</th>\n",
       "      <th>selfie_camera_mp</th>\n",
       "      <th>int_memory</th>\n",
       "      <th>ram</th>\n",
       "      <th>battery</th>\n",
       "      <th>weight</th>\n",
       "      <th>release_year</th>\n",
       "      <th>days_used</th>\n",
       "      <th>new_price</th>\n",
       "      <th>used_price</th>\n",
       "      <th>used_price_log</th>\n",
       "      <th>new_price_log</th>\n",
       "      <th>device_category</th>\n",
       "    </tr>\n",
       "  </thead>\n",
       "  <tbody>\n",
       "    <tr>\n",
       "      <th>0</th>\n",
       "      <td>Honor</td>\n",
       "      <td>Android</td>\n",
       "      <td>14.50</td>\n",
       "      <td>yes</td>\n",
       "      <td>no</td>\n",
       "      <td>13.0</td>\n",
       "      <td>5.0</td>\n",
       "      <td>64.0</td>\n",
       "      <td>3.0</td>\n",
       "      <td>3020.0</td>\n",
       "      <td>146.0</td>\n",
       "      <td>2020</td>\n",
       "      <td>127</td>\n",
       "      <td>111.62</td>\n",
       "      <td>74.26</td>\n",
       "      <td>4.307572</td>\n",
       "      <td>4.715100</td>\n",
       "      <td>Budget</td>\n",
       "    </tr>\n",
       "    <tr>\n",
       "      <th>1</th>\n",
       "      <td>Honor</td>\n",
       "      <td>Android</td>\n",
       "      <td>17.30</td>\n",
       "      <td>yes</td>\n",
       "      <td>yes</td>\n",
       "      <td>13.0</td>\n",
       "      <td>16.0</td>\n",
       "      <td>128.0</td>\n",
       "      <td>8.0</td>\n",
       "      <td>4300.0</td>\n",
       "      <td>213.0</td>\n",
       "      <td>2020</td>\n",
       "      <td>325</td>\n",
       "      <td>249.39</td>\n",
       "      <td>174.53</td>\n",
       "      <td>5.162097</td>\n",
       "      <td>5.519018</td>\n",
       "      <td>Mid-Range</td>\n",
       "    </tr>\n",
       "    <tr>\n",
       "      <th>2</th>\n",
       "      <td>Honor</td>\n",
       "      <td>Android</td>\n",
       "      <td>16.69</td>\n",
       "      <td>yes</td>\n",
       "      <td>yes</td>\n",
       "      <td>13.0</td>\n",
       "      <td>8.0</td>\n",
       "      <td>128.0</td>\n",
       "      <td>8.0</td>\n",
       "      <td>4200.0</td>\n",
       "      <td>213.0</td>\n",
       "      <td>2020</td>\n",
       "      <td>162</td>\n",
       "      <td>359.47</td>\n",
       "      <td>165.85</td>\n",
       "      <td>5.111084</td>\n",
       "      <td>5.884631</td>\n",
       "      <td>Premium</td>\n",
       "    </tr>\n",
       "    <tr>\n",
       "      <th>3</th>\n",
       "      <td>Honor</td>\n",
       "      <td>Android</td>\n",
       "      <td>25.50</td>\n",
       "      <td>yes</td>\n",
       "      <td>yes</td>\n",
       "      <td>13.0</td>\n",
       "      <td>8.0</td>\n",
       "      <td>64.0</td>\n",
       "      <td>6.0</td>\n",
       "      <td>7250.0</td>\n",
       "      <td>480.0</td>\n",
       "      <td>2020</td>\n",
       "      <td>345</td>\n",
       "      <td>278.93</td>\n",
       "      <td>169.93</td>\n",
       "      <td>5.135387</td>\n",
       "      <td>5.630961</td>\n",
       "      <td>Mid-Range</td>\n",
       "    </tr>\n",
       "    <tr>\n",
       "      <th>4</th>\n",
       "      <td>Honor</td>\n",
       "      <td>Android</td>\n",
       "      <td>15.32</td>\n",
       "      <td>yes</td>\n",
       "      <td>no</td>\n",
       "      <td>13.0</td>\n",
       "      <td>8.0</td>\n",
       "      <td>64.0</td>\n",
       "      <td>3.0</td>\n",
       "      <td>5000.0</td>\n",
       "      <td>185.0</td>\n",
       "      <td>2020</td>\n",
       "      <td>293</td>\n",
       "      <td>140.87</td>\n",
       "      <td>80.64</td>\n",
       "      <td>4.389995</td>\n",
       "      <td>4.947837</td>\n",
       "      <td>Budget</td>\n",
       "    </tr>\n",
       "  </tbody>\n",
       "</table>\n",
       "</div>"
      ],
      "text/plain": [
       "  brand_name       os  screen_size   4g   5g  main_camera_mp  \\\n",
       "0      Honor  Android        14.50  yes   no            13.0   \n",
       "1      Honor  Android        17.30  yes  yes            13.0   \n",
       "2      Honor  Android        16.69  yes  yes            13.0   \n",
       "3      Honor  Android        25.50  yes  yes            13.0   \n",
       "4      Honor  Android        15.32  yes   no            13.0   \n",
       "\n",
       "   selfie_camera_mp  int_memory  ram  battery  weight  release_year  \\\n",
       "0               5.0        64.0  3.0   3020.0   146.0          2020   \n",
       "1              16.0       128.0  8.0   4300.0   213.0          2020   \n",
       "2               8.0       128.0  8.0   4200.0   213.0          2020   \n",
       "3               8.0        64.0  6.0   7250.0   480.0          2020   \n",
       "4               8.0        64.0  3.0   5000.0   185.0          2020   \n",
       "\n",
       "   days_used  new_price  used_price  used_price_log  new_price_log  \\\n",
       "0        127     111.62       74.26        4.307572       4.715100   \n",
       "1        325     249.39      174.53        5.162097       5.519018   \n",
       "2        162     359.47      165.85        5.111084       5.884631   \n",
       "3        345     278.93      169.93        5.135387       5.630961   \n",
       "4        293     140.87       80.64        4.389995       4.947837   \n",
       "\n",
       "  device_category  \n",
       "0          Budget  \n",
       "1       Mid-Range  \n",
       "2         Premium  \n",
       "3       Mid-Range  \n",
       "4          Budget  "
      ]
     },
     "execution_count": 12,
     "metadata": {},
     "output_type": "execute_result"
    }
   ],
   "source": [
    "#splitting devices into categories by price: budget, mid-range, premium using the new_price column \n",
    "#we will not be using the used_price column because other factors are likely to influence this value. \n",
    "#the new_price gives us a better idea of a \"budget\" phone vs a \"premium\" phone when it was originally sold. \n",
    "\n",
    "#using np.inf for numpy's infinity value and pd.cut to give benchmarks of where to group the data\n",
    "df[\"device_category\"] = pd.cut(df['new_price'], \n",
    "    [-np.inf, 200, 350, np.inf], \n",
    "    labels = [\"Budget\", \"Mid-Range\", \"Premium\"])\n",
    "#groups the devices into categories of less than 200, 200-350, and more than 350 \n",
    "\n",
    "print(df[\"device_category\"].value_counts())\n",
    "df.head()"
   ]
  },
  {
   "cell_type": "markdown",
   "id": "40206a35",
   "metadata": {},
   "source": [
    "- All of the devices have been separated into the 3 categories. \n",
    "- These value counts contain all of the devices in the df dataframe. There are now 1844 devices in the \"Budget\" category, 1025 devices in the \"Mid-Range\" category, and 585 devices in the \"Premium\" category. \n",
    "-  We will now make another dataframe of good selfie camera phones so that the dataframe can contain the device_category column. "
   ]
  },
  {
   "cell_type": "code",
   "execution_count": 13,
   "id": "81b48fab",
   "metadata": {},
   "outputs": [
    {
     "name": "stdout",
     "output_type": "stream",
     "text": [
      "(655, 18)\n"
     ]
    },
    {
     "data": {
      "text/html": [
       "<div>\n",
       "<style scoped>\n",
       "    .dataframe tbody tr th:only-of-type {\n",
       "        vertical-align: middle;\n",
       "    }\n",
       "\n",
       "    .dataframe tbody tr th {\n",
       "        vertical-align: top;\n",
       "    }\n",
       "\n",
       "    .dataframe thead th {\n",
       "        text-align: right;\n",
       "    }\n",
       "</style>\n",
       "<table border=\"1\" class=\"dataframe\">\n",
       "  <thead>\n",
       "    <tr style=\"text-align: right;\">\n",
       "      <th></th>\n",
       "      <th>brand_name</th>\n",
       "      <th>os</th>\n",
       "      <th>screen_size</th>\n",
       "      <th>4g</th>\n",
       "      <th>5g</th>\n",
       "      <th>main_camera_mp</th>\n",
       "      <th>selfie_camera_mp</th>\n",
       "      <th>int_memory</th>\n",
       "      <th>ram</th>\n",
       "      <th>battery</th>\n",
       "      <th>weight</th>\n",
       "      <th>release_year</th>\n",
       "      <th>days_used</th>\n",
       "      <th>new_price</th>\n",
       "      <th>used_price</th>\n",
       "      <th>used_price_log</th>\n",
       "      <th>new_price_log</th>\n",
       "      <th>device_category</th>\n",
       "    </tr>\n",
       "  </thead>\n",
       "  <tbody>\n",
       "    <tr>\n",
       "      <th>1</th>\n",
       "      <td>Honor</td>\n",
       "      <td>Android</td>\n",
       "      <td>17.30</td>\n",
       "      <td>yes</td>\n",
       "      <td>yes</td>\n",
       "      <td>13.0</td>\n",
       "      <td>16.0</td>\n",
       "      <td>128.0</td>\n",
       "      <td>8.0</td>\n",
       "      <td>4300.0</td>\n",
       "      <td>213.0</td>\n",
       "      <td>2020</td>\n",
       "      <td>325</td>\n",
       "      <td>249.39</td>\n",
       "      <td>174.53</td>\n",
       "      <td>5.162097</td>\n",
       "      <td>5.519018</td>\n",
       "      <td>Mid-Range</td>\n",
       "    </tr>\n",
       "    <tr>\n",
       "      <th>8</th>\n",
       "      <td>Honor</td>\n",
       "      <td>Android</td>\n",
       "      <td>15.32</td>\n",
       "      <td>yes</td>\n",
       "      <td>no</td>\n",
       "      <td>13.0</td>\n",
       "      <td>16.0</td>\n",
       "      <td>128.0</td>\n",
       "      <td>6.0</td>\n",
       "      <td>4000.0</td>\n",
       "      <td>165.0</td>\n",
       "      <td>2020</td>\n",
       "      <td>161</td>\n",
       "      <td>200.32</td>\n",
       "      <td>132.43</td>\n",
       "      <td>4.886054</td>\n",
       "      <td>5.299916</td>\n",
       "      <td>Mid-Range</td>\n",
       "    </tr>\n",
       "    <tr>\n",
       "      <th>12</th>\n",
       "      <td>Honor</td>\n",
       "      <td>Android</td>\n",
       "      <td>16.69</td>\n",
       "      <td>yes</td>\n",
       "      <td>yes</td>\n",
       "      <td>13.0</td>\n",
       "      <td>16.0</td>\n",
       "      <td>128.0</td>\n",
       "      <td>8.0</td>\n",
       "      <td>4100.0</td>\n",
       "      <td>206.0</td>\n",
       "      <td>2019</td>\n",
       "      <td>537</td>\n",
       "      <td>499.68</td>\n",
       "      <td>217.73</td>\n",
       "      <td>5.383256</td>\n",
       "      <td>6.213968</td>\n",
       "      <td>Premium</td>\n",
       "    </tr>\n",
       "    <tr>\n",
       "      <th>13</th>\n",
       "      <td>Honor</td>\n",
       "      <td>Android</td>\n",
       "      <td>15.32</td>\n",
       "      <td>yes</td>\n",
       "      <td>no</td>\n",
       "      <td>13.0</td>\n",
       "      <td>16.0</td>\n",
       "      <td>64.0</td>\n",
       "      <td>4.0</td>\n",
       "      <td>4000.0</td>\n",
       "      <td>171.5</td>\n",
       "      <td>2019</td>\n",
       "      <td>336</td>\n",
       "      <td>221.13</td>\n",
       "      <td>101.25</td>\n",
       "      <td>4.617593</td>\n",
       "      <td>5.398751</td>\n",
       "      <td>Mid-Range</td>\n",
       "    </tr>\n",
       "    <tr>\n",
       "      <th>16</th>\n",
       "      <td>Honor</td>\n",
       "      <td>Android</td>\n",
       "      <td>15.90</td>\n",
       "      <td>yes</td>\n",
       "      <td>no</td>\n",
       "      <td>13.0</td>\n",
       "      <td>32.0</td>\n",
       "      <td>128.0</td>\n",
       "      <td>6.0</td>\n",
       "      <td>3750.0</td>\n",
       "      <td>172.0</td>\n",
       "      <td>2019</td>\n",
       "      <td>395</td>\n",
       "      <td>249.12</td>\n",
       "      <td>151.77</td>\n",
       "      <td>5.022366</td>\n",
       "      <td>5.517935</td>\n",
       "      <td>Mid-Range</td>\n",
       "    </tr>\n",
       "  </tbody>\n",
       "</table>\n",
       "</div>"
      ],
      "text/plain": [
       "   brand_name       os  screen_size   4g   5g  main_camera_mp  \\\n",
       "1       Honor  Android        17.30  yes  yes            13.0   \n",
       "8       Honor  Android        15.32  yes   no            13.0   \n",
       "12      Honor  Android        16.69  yes  yes            13.0   \n",
       "13      Honor  Android        15.32  yes   no            13.0   \n",
       "16      Honor  Android        15.90  yes   no            13.0   \n",
       "\n",
       "    selfie_camera_mp  int_memory  ram  battery  weight  release_year  \\\n",
       "1               16.0       128.0  8.0   4300.0   213.0          2020   \n",
       "8               16.0       128.0  6.0   4000.0   165.0          2020   \n",
       "12              16.0       128.0  8.0   4100.0   206.0          2019   \n",
       "13              16.0        64.0  4.0   4000.0   171.5          2019   \n",
       "16              32.0       128.0  6.0   3750.0   172.0          2019   \n",
       "\n",
       "    days_used  new_price  used_price  used_price_log  new_price_log  \\\n",
       "1         325     249.39      174.53        5.162097       5.519018   \n",
       "8         161     200.32      132.43        4.886054       5.299916   \n",
       "12        537     499.68      217.73        5.383256       6.213968   \n",
       "13        336     221.13      101.25        4.617593       5.398751   \n",
       "16        395     249.12      151.77        5.022366       5.517935   \n",
       "\n",
       "   device_category  \n",
       "1        Mid-Range  \n",
       "8        Mid-Range  \n",
       "12         Premium  \n",
       "13       Mid-Range  \n",
       "16       Mid-Range  "
      ]
     },
     "execution_count": 13,
     "metadata": {},
     "output_type": "execute_result"
    }
   ],
   "source": [
    "#creating another \"good front camera\" group with the extra column\n",
    "\n",
    "good_selfie_cam2 = df[df.selfie_camera_mp > 8]\n",
    "print(good_selfie_cam2.shape)\n",
    "good_selfie_cam2.head()"
   ]
  },
  {
   "cell_type": "markdown",
   "id": "90a54689",
   "metadata": {},
   "source": [
    "- device_category is now part of the good_selfie_cam2 dataframe. Now we can visualize this data. "
   ]
  },
  {
   "cell_type": "code",
   "execution_count": 14,
   "id": "a10dc070",
   "metadata": {},
   "outputs": [
    {
     "data": {
      "image/png": "[encoded data removed]",
      "text/plain": [
       "<Figure size 1080x504 with 1 Axes>"
      ]
     },
     "metadata": {},
     "output_type": "display_data"
    }
   ],
   "source": [
    "#comparing the devices with good selfie cameras by brand AND device_category\n",
    "#using a countplot with a hue\n",
    "\n",
    "plt.figure(figsize=(15,7))\n",
    "sns.countplot(x= \"brand_name\", hue=\"device_category\", data=good_selfie_cam2)\n",
    "plt.xticks(rotation = 90) #rotates the x-axis labels by 60 degrees\n",
    "plt.show()"
   ]
  },
  {
   "cell_type": "markdown",
   "id": "2c1c77ab",
   "metadata": {},
   "source": [
    "- This gives us a better idea of the brands with good selfie cameras but separated by the device category. \n",
    "- For example: there are about 20 devices from the brand Xiaomi that have good selfie cameras AND are under 200 euros. \n",
    "- Another example: there are several devices (over 45) from the brand Oppo that have good selfie cameras but these are all premium devices and cost most than 350 euros. \n",
    "- This graph provides valuable info for customers that may want a device with a good selfie camera but want to stick to a specific budget. \n",
    "\n",
    "We can also repeat this same analysis with the back camera using the same methods. Front cameras tend to be much smaller than back/main cameras so the results may provide us with different information. "
   ]
  },
  {
   "cell_type": "code",
   "execution_count": 15,
   "id": "3e962a5d",
   "metadata": {},
   "outputs": [
    {
     "name": "stdout",
     "output_type": "stream",
     "text": [
      "(1560, 18)\n"
     ]
    },
    {
     "data": {
      "text/html": [
       "<div>\n",
       "<style scoped>\n",
       "    .dataframe tbody tr th:only-of-type {\n",
       "        vertical-align: middle;\n",
       "    }\n",
       "\n",
       "    .dataframe tbody tr th {\n",
       "        vertical-align: top;\n",
       "    }\n",
       "\n",
       "    .dataframe thead th {\n",
       "        text-align: right;\n",
       "    }\n",
       "</style>\n",
       "<table border=\"1\" class=\"dataframe\">\n",
       "  <thead>\n",
       "    <tr style=\"text-align: right;\">\n",
       "      <th></th>\n",
       "      <th>brand_name</th>\n",
       "      <th>os</th>\n",
       "      <th>screen_size</th>\n",
       "      <th>4g</th>\n",
       "      <th>5g</th>\n",
       "      <th>main_camera_mp</th>\n",
       "      <th>selfie_camera_mp</th>\n",
       "      <th>int_memory</th>\n",
       "      <th>ram</th>\n",
       "      <th>battery</th>\n",
       "      <th>weight</th>\n",
       "      <th>release_year</th>\n",
       "      <th>days_used</th>\n",
       "      <th>new_price</th>\n",
       "      <th>used_price</th>\n",
       "      <th>used_price_log</th>\n",
       "      <th>new_price_log</th>\n",
       "      <th>device_category</th>\n",
       "    </tr>\n",
       "  </thead>\n",
       "  <tbody>\n",
       "    <tr>\n",
       "      <th>0</th>\n",
       "      <td>Honor</td>\n",
       "      <td>Android</td>\n",
       "      <td>14.50</td>\n",
       "      <td>yes</td>\n",
       "      <td>no</td>\n",
       "      <td>13.0</td>\n",
       "      <td>5.0</td>\n",
       "      <td>64.0</td>\n",
       "      <td>3.0</td>\n",
       "      <td>3020.0</td>\n",
       "      <td>146.0</td>\n",
       "      <td>2020</td>\n",
       "      <td>127</td>\n",
       "      <td>111.62</td>\n",
       "      <td>74.26</td>\n",
       "      <td>4.307572</td>\n",
       "      <td>4.715100</td>\n",
       "      <td>Budget</td>\n",
       "    </tr>\n",
       "    <tr>\n",
       "      <th>1</th>\n",
       "      <td>Honor</td>\n",
       "      <td>Android</td>\n",
       "      <td>17.30</td>\n",
       "      <td>yes</td>\n",
       "      <td>yes</td>\n",
       "      <td>13.0</td>\n",
       "      <td>16.0</td>\n",
       "      <td>128.0</td>\n",
       "      <td>8.0</td>\n",
       "      <td>4300.0</td>\n",
       "      <td>213.0</td>\n",
       "      <td>2020</td>\n",
       "      <td>325</td>\n",
       "      <td>249.39</td>\n",
       "      <td>174.53</td>\n",
       "      <td>5.162097</td>\n",
       "      <td>5.519018</td>\n",
       "      <td>Mid-Range</td>\n",
       "    </tr>\n",
       "    <tr>\n",
       "      <th>2</th>\n",
       "      <td>Honor</td>\n",
       "      <td>Android</td>\n",
       "      <td>16.69</td>\n",
       "      <td>yes</td>\n",
       "      <td>yes</td>\n",
       "      <td>13.0</td>\n",
       "      <td>8.0</td>\n",
       "      <td>128.0</td>\n",
       "      <td>8.0</td>\n",
       "      <td>4200.0</td>\n",
       "      <td>213.0</td>\n",
       "      <td>2020</td>\n",
       "      <td>162</td>\n",
       "      <td>359.47</td>\n",
       "      <td>165.85</td>\n",
       "      <td>5.111084</td>\n",
       "      <td>5.884631</td>\n",
       "      <td>Premium</td>\n",
       "    </tr>\n",
       "    <tr>\n",
       "      <th>3</th>\n",
       "      <td>Honor</td>\n",
       "      <td>Android</td>\n",
       "      <td>25.50</td>\n",
       "      <td>yes</td>\n",
       "      <td>yes</td>\n",
       "      <td>13.0</td>\n",
       "      <td>8.0</td>\n",
       "      <td>64.0</td>\n",
       "      <td>6.0</td>\n",
       "      <td>7250.0</td>\n",
       "      <td>480.0</td>\n",
       "      <td>2020</td>\n",
       "      <td>345</td>\n",
       "      <td>278.93</td>\n",
       "      <td>169.93</td>\n",
       "      <td>5.135387</td>\n",
       "      <td>5.630961</td>\n",
       "      <td>Mid-Range</td>\n",
       "    </tr>\n",
       "    <tr>\n",
       "      <th>4</th>\n",
       "      <td>Honor</td>\n",
       "      <td>Android</td>\n",
       "      <td>15.32</td>\n",
       "      <td>yes</td>\n",
       "      <td>no</td>\n",
       "      <td>13.0</td>\n",
       "      <td>8.0</td>\n",
       "      <td>64.0</td>\n",
       "      <td>3.0</td>\n",
       "      <td>5000.0</td>\n",
       "      <td>185.0</td>\n",
       "      <td>2020</td>\n",
       "      <td>293</td>\n",
       "      <td>140.87</td>\n",
       "      <td>80.64</td>\n",
       "      <td>4.389995</td>\n",
       "      <td>4.947837</td>\n",
       "      <td>Budget</td>\n",
       "    </tr>\n",
       "  </tbody>\n",
       "</table>\n",
       "</div>"
      ],
      "text/plain": [
       "  brand_name       os  screen_size   4g   5g  main_camera_mp  \\\n",
       "0      Honor  Android        14.50  yes   no            13.0   \n",
       "1      Honor  Android        17.30  yes  yes            13.0   \n",
       "2      Honor  Android        16.69  yes  yes            13.0   \n",
       "3      Honor  Android        25.50  yes  yes            13.0   \n",
       "4      Honor  Android        15.32  yes   no            13.0   \n",
       "\n",
       "   selfie_camera_mp  int_memory  ram  battery  weight  release_year  \\\n",
       "0               5.0        64.0  3.0   3020.0   146.0          2020   \n",
       "1              16.0       128.0  8.0   4300.0   213.0          2020   \n",
       "2               8.0       128.0  8.0   4200.0   213.0          2020   \n",
       "3               8.0        64.0  6.0   7250.0   480.0          2020   \n",
       "4               8.0        64.0  3.0   5000.0   185.0          2020   \n",
       "\n",
       "   days_used  new_price  used_price  used_price_log  new_price_log  \\\n",
       "0        127     111.62       74.26        4.307572       4.715100   \n",
       "1        325     249.39      174.53        5.162097       5.519018   \n",
       "2        162     359.47      165.85        5.111084       5.884631   \n",
       "3        345     278.93      169.93        5.135387       5.630961   \n",
       "4        293     140.87       80.64        4.389995       4.947837   \n",
       "\n",
       "  device_category  \n",
       "0          Budget  \n",
       "1       Mid-Range  \n",
       "2         Premium  \n",
       "3       Mid-Range  \n",
       "4          Budget  "
      ]
     },
     "execution_count": 15,
     "metadata": {},
     "output_type": "execute_result"
    }
   ],
   "source": [
    "#creating a \"good back camera\" group with the device_category column\n",
    "#the overall mean and maximum values for the main camera megapixels in the original dataset is higher\n",
    "#so we can consider a \"good front camera\" to be a camera with 16 megapixels instead of 8. \n",
    "\n",
    "good_front_cam = df[df.main_camera_mp > 8]\n",
    "print(good_front_cam.shape)\n",
    "good_front_cam.head()"
   ]
  },
  {
   "cell_type": "code",
   "execution_count": 16,
   "id": "42a7033d",
   "metadata": {},
   "outputs": [
    {
     "data": {
      "image/png": "[encoded data removed]",
      "text/plain": [
       "<Figure size 1080x504 with 1 Axes>"
      ]
     },
     "metadata": {},
     "output_type": "display_data"
    }
   ],
   "source": [
    "#comparing the devices with good main cameras by brand AND device_category\n",
    "#using a countplot with a hue\n",
    "\n",
    "plt.figure(figsize=(15,7))\n",
    "sns.countplot(x= \"brand_name\", hue=\"device_category\", data=good_front_cam)\n",
    "plt.xticks(rotation = 90) #rotates the x-axis labels by 60 degrees\n",
    "plt.show()"
   ]
  },
  {
   "cell_type": "markdown",
   "id": "7657354f",
   "metadata": {},
   "source": [
    "- If a customer wants a really good main camera instead of a good selfie camera (for photos of other people,  landscapes, etc.), the customer should be looking at different brands compared to the selfie camera analysis. \n",
    "- The brand Xiaomi still contains the most devices with good main cameras that are in the budget category (cost under 200 euros). \n",
    "- The brand Huawei contains many devices that are in a mid-range budget that have good main cameras. \n",
    "- Finally, Samsung has many devices with really good main cameras that are housed within a premium priced phone. \n",
    "    - Based on these graphs, Samsung offers really great main cameras but these phones may not also have a good selfie camera in it as well. "
   ]
  },
  {
   "cell_type": "markdown",
   "id": "67b158ab",
   "metadata": {},
   "source": [
    "<b>7. Which attributes are highly correlated with the price of a used device? </b>\n",
    "\n",
    "Observations: \n",
    "- Based on the heat map above, battery, screensize, ram, selfie_camera_mp, and screen_size are the highest correlation values with used_price compared to the other attributes. \n",
    "    - selfie_camera_mp has the highest correlation with a value of 0.61\n",
    "- new_price also has a high correlation value with used_price but these two variables seem like they would be very highly correlated anyways when you think about this logically. "
   ]
  },
  {
   "cell_type": "markdown",
   "id": "afd04e2c",
   "metadata": {},
   "source": [
    "##### Used_price over time"
   ]
  },
  {
   "cell_type": "code",
   "execution_count": 17,
   "id": "4635a53d",
   "metadata": {},
   "outputs": [
    {
     "data": {
      "image/png": "[encoded data removed]",
      "text/plain": [
       "<Figure size 720x360 with 1 Axes>"
      ]
     },
     "metadata": {},
     "output_type": "display_data"
    }
   ],
   "source": [
    "#used_price vs release_year\n",
    "plt.figure(figsize=(10,5))\n",
    "sns.lineplot(x=\"release_year\", y=\"used_price\", data=df, ci=None)\n",
    "plt.show()"
   ]
  },
  {
   "cell_type": "markdown",
   "id": "cd1af6ed",
   "metadata": {},
   "source": [
    "- Older phones are less expensive to buy used compared to newer phones.\n",
    "- As the release year increases (and phones are newer), the price when used is more expensive.\n",
    "- The price of used phones is increasing overall by year."
   ]
  },
  {
   "cell_type": "markdown",
   "id": "ec7d7684",
   "metadata": {},
   "source": [
    "##### 4g and 5g availability by device_category"
   ]
  },
  {
   "cell_type": "code",
   "execution_count": 18,
   "id": "1286dcd6",
   "metadata": {},
   "outputs": [
    {
     "data": {
      "image/png": "[encoded data removed]",
      "text/plain": [
       "<Figure size 432x288 with 1 Axes>"
      ]
     },
     "metadata": {},
     "output_type": "display_data"
    }
   ],
   "source": [
    "sns.barplot(data=df, x=\"4g\", y=\"used_price\", hue=\"device_category\")\n",
    "plt.show()"
   ]
  },
  {
   "cell_type": "code",
   "execution_count": 19,
   "id": "2650ffb9",
   "metadata": {},
   "outputs": [
    {
     "data": {
      "image/png": "[encoded data removed]",
      "text/plain": [
       "<Figure size 432x288 with 1 Axes>"
      ]
     },
     "metadata": {},
     "output_type": "display_data"
    }
   ],
   "source": [
    "sns.barplot(data=df, x=\"5g\", y=\"used_price\", hue=\"device_category\")\n",
    "plt.show()"
   ]
  },
  {
   "cell_type": "code",
   "execution_count": 20,
   "id": "f2c06433",
   "metadata": {},
   "outputs": [
    {
     "data": {
      "image/png": "[encoded data removed]",
      "text/plain": [
       "<Figure size 1080x288 with 4 Axes>"
      ]
     },
     "metadata": {},
     "output_type": "display_data"
    }
   ],
   "source": [
    "plt.figure(figsize=(15, 4))\n",
    "\n",
    "plt.subplot(121)\n",
    "sns.heatmap(\n",
    "    pd.crosstab(df[\"4g\"], df[\"device_category\"], normalize=\"columns\"),\n",
    "    annot=True,\n",
    "    fmt=\".4f\",\n",
    "    cmap=\"Spectral\")\n",
    "\n",
    "plt.subplot(122)\n",
    "sns.heatmap(pd.crosstab(df[\"5g\"], df[\"device_category\"], normalize=\"columns\"),\n",
    "    annot=True,\n",
    "    fmt=\".4f\",\n",
    "    cmap=\"Spectral\")\n",
    "\n",
    "plt.show()"
   ]
  },
  {
   "cell_type": "markdown",
   "id": "8c54ba52",
   "metadata": {},
   "source": [
    "Overall, with the 2 barplots and the 2 heatmaps, we can draw a few observations:\n",
    "\n",
    "4g: \n",
    "- There are not very many premium devices that do not have 4g capabilities. Therefore, if a customer has a premium budget, they are more than likely going to be able to get a device that at least has 4g capabilities. \n",
    "- There are many devices in the mid-range category that also have 4g capabilities. Not all of the devices in this category do, but many of them have 4g. \n",
    "- In the budget device category, approximately 50% of the devices are 4g compatible wile about 50% are not. \n",
    "\n",
    "5g: \n",
    "- There are no devices that are in the budget category (cost under 200 euros) that have 5g capabilities. \n",
    "- There are very few devices with 5g capability in the mid-range category. \n",
    "- About 80% of the premium devices are 5g capable while 20% are not. \n",
    "- Almost all of the devices of the entire dataset, the ones that have 5g capabilities typically cost over 350 euros. "
   ]
  },
  {
   "cell_type": "markdown",
   "id": "bdcaebe1",
   "metadata": {},
   "source": [
    "## Data Preprocessing"
   ]
  },
  {
   "cell_type": "markdown",
   "id": "80e5f787",
   "metadata": {},
   "source": [
    "### Missing Value Treatment"
   ]
  },
  {
   "cell_type": "code",
   "execution_count": 21,
   "id": "fb0a27dc",
   "metadata": {},
   "outputs": [],
   "source": [
    "#creating another copy of the data\n",
    "df1 = df.copy()"
   ]
  },
  {
   "cell_type": "code",
   "execution_count": 22,
   "id": "6baa0990",
   "metadata": {},
   "outputs": [],
   "source": [
    "#filling in the missing values from the columns: \n",
    "    #main_camera_mp, selfie_camera_mp, int_memory, ram, battery, and weight \n",
    "#using the column medians grouped by brand_name\n",
    "\n",
    "cols_with_missings = [\n",
    "    \"main_camera_mp\",\n",
    "    \"selfie_camera_mp\",\n",
    "    \"int_memory\",\n",
    "    \"ram\",\n",
    "    \"battery\",\n",
    "    \"weight\"]\n",
    "\n",
    "for col in cols_with_missings:\n",
    "    df1[col] = df1.groupby('brand_name')[col].transform(lambda x: x.fillna(x.median()))"
   ]
  },
  {
   "cell_type": "code",
   "execution_count": 23,
   "id": "88b37c22",
   "metadata": {},
   "outputs": [
    {
     "data": {
      "text/plain": [
       "brand_name          0\n",
       "os                  0\n",
       "screen_size         0\n",
       "4g                  0\n",
       "5g                  0\n",
       "main_camera_mp      0\n",
       "selfie_camera_mp    0\n",
       "int_memory          0\n",
       "ram                 0\n",
       "battery             0\n",
       "weight              0\n",
       "release_year        0\n",
       "days_used           0\n",
       "new_price           0\n",
       "used_price          0\n",
       "used_price_log      0\n",
       "new_price_log       0\n",
       "device_category     0\n",
       "dtype: int64"
      ]
     },
     "execution_count": 23,
     "metadata": {},
     "output_type": "execute_result"
    }
   ],
   "source": [
    "#main_camera_mp by column median\n",
    "\n",
    "for col in cols_with_missings:\n",
    "    df1[\"main_camera_mp\"] = df1[\"main_camera_mp\"].fillna(df1[\"main_camera_mp\"].median()) \n",
    "    \n",
    "#to check if it worked:\n",
    "df1.isnull().sum()"
   ]
  },
  {
   "cell_type": "markdown",
   "id": "d00e3351",
   "metadata": {},
   "source": [
    "### Outlier Detection and Treatment"
   ]
  },
  {
   "cell_type": "code",
   "execution_count": 24,
   "id": "461b2123",
   "metadata": {},
   "outputs": [
    {
     "name": "stdout",
     "output_type": "stream",
     "text": [
      "['screen_size', 'main_camera_mp', 'selfie_camera_mp', 'int_memory', 'ram', 'battery', 'weight', 'days_used', 'new_price', 'used_price', 'used_price_log', 'new_price_log']\n"
     ]
    }
   ],
   "source": [
    "numerical_columns = df1.select_dtypes(include=np.number).columns.tolist()\n",
    "# dropping release_year as it is a temporal variable\n",
    "numerical_columns.remove(\"release_year\")\n",
    "print(numerical_columns)"
   ]
  },
  {
   "cell_type": "code",
   "execution_count": 25,
   "id": "e89d2605",
   "metadata": {},
   "outputs": [
    {
     "data": {
      "text/html": [
       "<div>\n",
       "<style scoped>\n",
       "    .dataframe tbody tr th:only-of-type {\n",
       "        vertical-align: middle;\n",
       "    }\n",
       "\n",
       "    .dataframe tbody tr th {\n",
       "        vertical-align: top;\n",
       "    }\n",
       "\n",
       "    .dataframe thead th {\n",
       "        text-align: right;\n",
       "    }\n",
       "</style>\n",
       "<table border=\"1\" class=\"dataframe\">\n",
       "  <thead>\n",
       "    <tr style=\"text-align: right;\">\n",
       "      <th></th>\n",
       "      <th>screen_size</th>\n",
       "      <th>main_camera_mp</th>\n",
       "      <th>selfie_camera_mp</th>\n",
       "      <th>int_memory</th>\n",
       "      <th>ram</th>\n",
       "      <th>battery</th>\n",
       "      <th>weight</th>\n",
       "      <th>release_year</th>\n",
       "      <th>days_used</th>\n",
       "      <th>new_price</th>\n",
       "      <th>used_price</th>\n",
       "      <th>used_price_log</th>\n",
       "      <th>new_price_log</th>\n",
       "    </tr>\n",
       "  </thead>\n",
       "  <tbody>\n",
       "    <tr>\n",
       "      <th>0</th>\n",
       "      <td>14.50</td>\n",
       "      <td>13.0</td>\n",
       "      <td>5.0</td>\n",
       "      <td>64.0</td>\n",
       "      <td>3.0</td>\n",
       "      <td>3020.0</td>\n",
       "      <td>146.0</td>\n",
       "      <td>2020</td>\n",
       "      <td>127</td>\n",
       "      <td>111.62</td>\n",
       "      <td>74.26</td>\n",
       "      <td>4.307572</td>\n",
       "      <td>4.715100</td>\n",
       "    </tr>\n",
       "    <tr>\n",
       "      <th>1</th>\n",
       "      <td>17.30</td>\n",
       "      <td>13.0</td>\n",
       "      <td>16.0</td>\n",
       "      <td>128.0</td>\n",
       "      <td>8.0</td>\n",
       "      <td>4300.0</td>\n",
       "      <td>213.0</td>\n",
       "      <td>2020</td>\n",
       "      <td>325</td>\n",
       "      <td>249.39</td>\n",
       "      <td>174.53</td>\n",
       "      <td>5.162097</td>\n",
       "      <td>5.519018</td>\n",
       "    </tr>\n",
       "    <tr>\n",
       "      <th>2</th>\n",
       "      <td>16.69</td>\n",
       "      <td>13.0</td>\n",
       "      <td>8.0</td>\n",
       "      <td>128.0</td>\n",
       "      <td>8.0</td>\n",
       "      <td>4200.0</td>\n",
       "      <td>213.0</td>\n",
       "      <td>2020</td>\n",
       "      <td>162</td>\n",
       "      <td>359.47</td>\n",
       "      <td>165.85</td>\n",
       "      <td>5.111084</td>\n",
       "      <td>5.884631</td>\n",
       "    </tr>\n",
       "    <tr>\n",
       "      <th>3</th>\n",
       "      <td>25.50</td>\n",
       "      <td>13.0</td>\n",
       "      <td>8.0</td>\n",
       "      <td>64.0</td>\n",
       "      <td>6.0</td>\n",
       "      <td>7250.0</td>\n",
       "      <td>480.0</td>\n",
       "      <td>2020</td>\n",
       "      <td>345</td>\n",
       "      <td>278.93</td>\n",
       "      <td>169.93</td>\n",
       "      <td>5.135387</td>\n",
       "      <td>5.630961</td>\n",
       "    </tr>\n",
       "    <tr>\n",
       "      <th>4</th>\n",
       "      <td>15.32</td>\n",
       "      <td>13.0</td>\n",
       "      <td>8.0</td>\n",
       "      <td>64.0</td>\n",
       "      <td>3.0</td>\n",
       "      <td>5000.0</td>\n",
       "      <td>185.0</td>\n",
       "      <td>2020</td>\n",
       "      <td>293</td>\n",
       "      <td>140.87</td>\n",
       "      <td>80.64</td>\n",
       "      <td>4.389995</td>\n",
       "      <td>4.947837</td>\n",
       "    </tr>\n",
       "  </tbody>\n",
       "</table>\n",
       "</div>"
      ],
      "text/plain": [
       "   screen_size  main_camera_mp  selfie_camera_mp  int_memory  ram  battery  \\\n",
       "0        14.50            13.0               5.0        64.0  3.0   3020.0   \n",
       "1        17.30            13.0              16.0       128.0  8.0   4300.0   \n",
       "2        16.69            13.0               8.0       128.0  8.0   4200.0   \n",
       "3        25.50            13.0               8.0        64.0  6.0   7250.0   \n",
       "4        15.32            13.0               8.0        64.0  3.0   5000.0   \n",
       "\n",
       "   weight  release_year  days_used  new_price  used_price  used_price_log  \\\n",
       "0   146.0          2020        127     111.62       74.26        4.307572   \n",
       "1   213.0          2020        325     249.39      174.53        5.162097   \n",
       "2   213.0          2020        162     359.47      165.85        5.111084   \n",
       "3   480.0          2020        345     278.93      169.93        5.135387   \n",
       "4   185.0          2020        293     140.87       80.64        4.389995   \n",
       "\n",
       "   new_price_log  \n",
       "0       4.715100  \n",
       "1       5.519018  \n",
       "2       5.884631  \n",
       "3       5.630961  \n",
       "4       4.947837  "
      ]
     },
     "execution_count": 25,
     "metadata": {},
     "output_type": "execute_result"
    }
   ],
   "source": [
    "#creating a whole new dataframe with just the numerical variables\n",
    "numerical_columns_df = df1.copy()\n",
    "numerical_columns_df = numerical_columns_df.select_dtypes(include=np.number)\n",
    "# dropping release_year as it is a temporal variable\n",
    "#numerical_columns_df.drop(\"release_year\")\n",
    "numerical_columns_df.head()"
   ]
  },
  {
   "cell_type": "code",
   "execution_count": 26,
   "id": "bc10a20c",
   "metadata": {},
   "outputs": [
    {
     "data": {
      "image/png": "[encoded data removed]",
      "text/plain": [
       "<Figure size 432x360 with 1 Axes>"
      ]
     },
     "metadata": {},
     "output_type": "display_data"
    },
    {
     "data": {
      "image/png": "[encoded data removed]",
      "text/plain": [
       "<Figure size 432x360 with 1 Axes>"
      ]
     },
     "metadata": {},
     "output_type": "display_data"
    },
    {
     "data": {
      "image/png": "[encoded data removed]",
      "text/plain": [
       "<Figure size 432x360 with 1 Axes>"
      ]
     },
     "metadata": {},
     "output_type": "display_data"
    },
    {
     "data": {
      "image/png": "[encoded data removed]",
      "text/plain": [
       "<Figure size 432x360 with 1 Axes>"
      ]
     },
     "metadata": {},
     "output_type": "display_data"
    },
    {
     "data": {
      "image/png": "[encoded data removed]",
      "text/plain": [
       "<Figure size 432x360 with 1 Axes>"
      ]
     },
     "metadata": {},
     "output_type": "display_data"
    },
    {
     "data": {
      "image/png": "[encoded data removed]",
      "text/plain": [
       "<Figure size 432x360 with 1 Axes>"
      ]
     },
     "metadata": {},
     "output_type": "display_data"
    },
    {
     "data": {
      "image/png": "[encoded data removed]",
      "text/plain": [
       "<Figure size 432x360 with 1 Axes>"
      ]
     },
     "metadata": {},
     "output_type": "display_data"
    },
    {
     "data": {
      "image/png": "[encoded data removed]",
      "text/plain": [
       "<Figure size 432x360 with 1 Axes>"
      ]
     },
     "metadata": {},
     "output_type": "display_data"
    },
    {
     "data": {
      "image/png": "[encoded data removed]",
      "text/plain": [
       "<Figure size 432x360 with 1 Axes>"
      ]
     },
     "metadata": {},
     "output_type": "display_data"
    },
    {
     "data": {
      "image/png": "[encoded data removed]",
      "text/plain": [
       "<Figure size 432x360 with 1 Axes>"
      ]
     },
     "metadata": {},
     "output_type": "display_data"
    },
    {
     "data": {
      "image/png": "[encoded data removed]",
      "text/plain": [
       "<Figure size 432x360 with 1 Axes>"
      ]
     },
     "metadata": {},
     "output_type": "display_data"
    },
    {
     "data": {
      "image/png": "[encoded data removed]",
      "text/plain": [
       "<Figure size 432x360 with 1 Axes>"
      ]
     },
     "metadata": {},
     "output_type": "display_data"
    },
    {
     "data": {
      "image/png": "[encoded data removed]",
      "text/plain": [
       "<Figure size 432x360 with 1 Axes>"
      ]
     },
     "metadata": {},
     "output_type": "display_data"
    }
   ],
   "source": [
    "for column in numerical_columns_df:\n",
    "    plt.figure(figsize=(6,5))\n",
    "    sns.boxplot(data=numerical_columns_df, x=column)"
   ]
  },
  {
   "cell_type": "markdown",
   "id": "68ecdc86",
   "metadata": {},
   "source": [
    "- Many of the numerical columns have multiple outliers. \n",
    "- Most of these columns are independent variables and have ordinal, discrete values. So, even though many values are detected as outliers, we can use them as is and not fix them in any way. \n",
    "- The outliers that we really need to analyze are those of the \"used_price_log\" and \"new_price_log\" variables. \n",
    "    - Most of these outliers from these variables are flagged by the boxplot. But within the histograms for these variables (produced earlier), we can see that these outliers really are not inconsisent with the overall distribution of the data and the data is normally distributed. \n",
    "- All of the outliers from the numerical variables do not seem to be problematic overall. Therefore, they will not be treated or dropped. We will just stick to the original transformed variables. "
   ]
  },
  {
   "cell_type": "markdown",
   "id": "9459b1ca",
   "metadata": {},
   "source": [
    "### Data Preparation for Modeling"
   ]
  },
  {
   "cell_type": "markdown",
   "id": "22d3299e",
   "metadata": {},
   "source": [
    "#### Encoding categorical variables\n",
    "- deciding which variables will need dummy variables"
   ]
  },
  {
   "cell_type": "code",
   "execution_count": 27,
   "id": "00d5f97b",
   "metadata": {},
   "outputs": [
    {
     "name": "stdout",
     "output_type": "stream",
     "text": [
      "The following columns will need to be converted to dummy variables: ['brand_name', 'os', '4g', '5g', 'device_category']\n"
     ]
    }
   ],
   "source": [
    "categorical_columns = df1.select_dtypes(include=[\"category\", \"object\"]).columns.tolist()\n",
    "print(\"The following columns will need to be converted to dummy variables:\", categorical_columns)"
   ]
  },
  {
   "cell_type": "markdown",
   "id": "64a39520",
   "metadata": {},
   "source": [
    "#### Defining the dependent and independent variables"
   ]
  },
  {
   "cell_type": "code",
   "execution_count": 28,
   "id": "2ed9dacb",
   "metadata": {},
   "outputs": [
    {
     "name": "stdout",
     "output_type": "stream",
     "text": [
      "  brand_name       os  screen_size   4g   5g  main_camera_mp  \\\n",
      "0      Honor  Android        14.50  yes   no            13.0   \n",
      "1      Honor  Android        17.30  yes  yes            13.0   \n",
      "2      Honor  Android        16.69  yes  yes            13.0   \n",
      "3      Honor  Android        25.50  yes  yes            13.0   \n",
      "4      Honor  Android        15.32  yes   no            13.0   \n",
      "\n",
      "   selfie_camera_mp  int_memory  ram  battery  weight  release_year  \\\n",
      "0               5.0        64.0  3.0   3020.0   146.0          2020   \n",
      "1              16.0       128.0  8.0   4300.0   213.0          2020   \n",
      "2               8.0       128.0  8.0   4200.0   213.0          2020   \n",
      "3               8.0        64.0  6.0   7250.0   480.0          2020   \n",
      "4               8.0        64.0  3.0   5000.0   185.0          2020   \n",
      "\n",
      "   days_used  new_price_log  \n",
      "0        127       4.715100  \n",
      "1        325       5.519018  \n",
      "2        162       5.884631  \n",
      "3        345       5.630961  \n",
      "4        293       4.947837  \n",
      " \n",
      "0    4.307572\n",
      "1    5.162097\n",
      "2    5.111084\n",
      "3    5.135387\n",
      "4    4.389995\n",
      "Name: used_price_log, dtype: float64\n"
     ]
    }
   ],
   "source": [
    "X = df1.drop(['used_price', 'used_price_log', 'new_price', 'device_category'], axis=1)\n",
    "y = df1['used_price_log']\n",
    "\n",
    "print(X.head())\n",
    "print(\" \")\n",
    "print(y.head())"
   ]
  },
  {
   "cell_type": "code",
   "execution_count": 29,
   "id": "090fcd93",
   "metadata": {},
   "outputs": [
    {
     "name": "stdout",
     "output_type": "stream",
     "text": [
      "(3454, 48)\n"
     ]
    },
    {
     "data": {
      "text/html": [
       "<div>\n",
       "<style scoped>\n",
       "    .dataframe tbody tr th:only-of-type {\n",
       "        vertical-align: middle;\n",
       "    }\n",
       "\n",
       "    .dataframe tbody tr th {\n",
       "        vertical-align: top;\n",
       "    }\n",
       "\n",
       "    .dataframe thead th {\n",
       "        text-align: right;\n",
       "    }\n",
       "</style>\n",
       "<table border=\"1\" class=\"dataframe\">\n",
       "  <thead>\n",
       "    <tr style=\"text-align: right;\">\n",
       "      <th></th>\n",
       "      <th>screen_size</th>\n",
       "      <th>main_camera_mp</th>\n",
       "      <th>selfie_camera_mp</th>\n",
       "      <th>int_memory</th>\n",
       "      <th>ram</th>\n",
       "      <th>battery</th>\n",
       "      <th>weight</th>\n",
       "      <th>release_year</th>\n",
       "      <th>days_used</th>\n",
       "      <th>new_price_log</th>\n",
       "      <th>brand_name_Alcatel</th>\n",
       "      <th>brand_name_Apple</th>\n",
       "      <th>brand_name_Asus</th>\n",
       "      <th>brand_name_BlackBerry</th>\n",
       "      <th>brand_name_Celkon</th>\n",
       "      <th>brand_name_Coolpad</th>\n",
       "      <th>brand_name_Gionee</th>\n",
       "      <th>brand_name_Google</th>\n",
       "      <th>brand_name_HTC</th>\n",
       "      <th>brand_name_Honor</th>\n",
       "      <th>brand_name_Huawei</th>\n",
       "      <th>brand_name_Infinix</th>\n",
       "      <th>brand_name_Karbonn</th>\n",
       "      <th>brand_name_LG</th>\n",
       "      <th>brand_name_Lava</th>\n",
       "      <th>brand_name_Lenovo</th>\n",
       "      <th>brand_name_Meizu</th>\n",
       "      <th>brand_name_Micromax</th>\n",
       "      <th>brand_name_Microsoft</th>\n",
       "      <th>brand_name_Motorola</th>\n",
       "      <th>brand_name_Nokia</th>\n",
       "      <th>brand_name_OnePlus</th>\n",
       "      <th>brand_name_Oppo</th>\n",
       "      <th>brand_name_Others</th>\n",
       "      <th>brand_name_Panasonic</th>\n",
       "      <th>brand_name_Realme</th>\n",
       "      <th>brand_name_Samsung</th>\n",
       "      <th>brand_name_Sony</th>\n",
       "      <th>brand_name_Spice</th>\n",
       "      <th>brand_name_Vivo</th>\n",
       "      <th>brand_name_XOLO</th>\n",
       "      <th>brand_name_Xiaomi</th>\n",
       "      <th>brand_name_ZTE</th>\n",
       "      <th>os_Others</th>\n",
       "      <th>os_Windows</th>\n",
       "      <th>os_iOS</th>\n",
       "      <th>4g_yes</th>\n",
       "      <th>5g_yes</th>\n",
       "    </tr>\n",
       "  </thead>\n",
       "  <tbody>\n",
       "    <tr>\n",
       "      <th>0</th>\n",
       "      <td>14.50</td>\n",
       "      <td>13.0</td>\n",
       "      <td>5.0</td>\n",
       "      <td>64.0</td>\n",
       "      <td>3.0</td>\n",
       "      <td>3020.0</td>\n",
       "      <td>146.0</td>\n",
       "      <td>2020</td>\n",
       "      <td>127</td>\n",
       "      <td>4.715100</td>\n",
       "      <td>0</td>\n",
       "      <td>0</td>\n",
       "      <td>0</td>\n",
       "      <td>0</td>\n",
       "      <td>0</td>\n",
       "      <td>0</td>\n",
       "      <td>0</td>\n",
       "      <td>0</td>\n",
       "      <td>0</td>\n",
       "      <td>1</td>\n",
       "      <td>0</td>\n",
       "      <td>0</td>\n",
       "      <td>0</td>\n",
       "      <td>0</td>\n",
       "      <td>0</td>\n",
       "      <td>0</td>\n",
       "      <td>0</td>\n",
       "      <td>0</td>\n",
       "      <td>0</td>\n",
       "      <td>0</td>\n",
       "      <td>0</td>\n",
       "      <td>0</td>\n",
       "      <td>0</td>\n",
       "      <td>0</td>\n",
       "      <td>0</td>\n",
       "      <td>0</td>\n",
       "      <td>0</td>\n",
       "      <td>0</td>\n",
       "      <td>0</td>\n",
       "      <td>0</td>\n",
       "      <td>0</td>\n",
       "      <td>0</td>\n",
       "      <td>0</td>\n",
       "      <td>0</td>\n",
       "      <td>0</td>\n",
       "      <td>0</td>\n",
       "      <td>1</td>\n",
       "      <td>0</td>\n",
       "    </tr>\n",
       "    <tr>\n",
       "      <th>1</th>\n",
       "      <td>17.30</td>\n",
       "      <td>13.0</td>\n",
       "      <td>16.0</td>\n",
       "      <td>128.0</td>\n",
       "      <td>8.0</td>\n",
       "      <td>4300.0</td>\n",
       "      <td>213.0</td>\n",
       "      <td>2020</td>\n",
       "      <td>325</td>\n",
       "      <td>5.519018</td>\n",
       "      <td>0</td>\n",
       "      <td>0</td>\n",
       "      <td>0</td>\n",
       "      <td>0</td>\n",
       "      <td>0</td>\n",
       "      <td>0</td>\n",
       "      <td>0</td>\n",
       "      <td>0</td>\n",
       "      <td>0</td>\n",
       "      <td>1</td>\n",
       "      <td>0</td>\n",
       "      <td>0</td>\n",
       "      <td>0</td>\n",
       "      <td>0</td>\n",
       "      <td>0</td>\n",
       "      <td>0</td>\n",
       "      <td>0</td>\n",
       "      <td>0</td>\n",
       "      <td>0</td>\n",
       "      <td>0</td>\n",
       "      <td>0</td>\n",
       "      <td>0</td>\n",
       "      <td>0</td>\n",
       "      <td>0</td>\n",
       "      <td>0</td>\n",
       "      <td>0</td>\n",
       "      <td>0</td>\n",
       "      <td>0</td>\n",
       "      <td>0</td>\n",
       "      <td>0</td>\n",
       "      <td>0</td>\n",
       "      <td>0</td>\n",
       "      <td>0</td>\n",
       "      <td>0</td>\n",
       "      <td>0</td>\n",
       "      <td>0</td>\n",
       "      <td>1</td>\n",
       "      <td>1</td>\n",
       "    </tr>\n",
       "    <tr>\n",
       "      <th>2</th>\n",
       "      <td>16.69</td>\n",
       "      <td>13.0</td>\n",
       "      <td>8.0</td>\n",
       "      <td>128.0</td>\n",
       "      <td>8.0</td>\n",
       "      <td>4200.0</td>\n",
       "      <td>213.0</td>\n",
       "      <td>2020</td>\n",
       "      <td>162</td>\n",
       "      <td>5.884631</td>\n",
       "      <td>0</td>\n",
       "      <td>0</td>\n",
       "      <td>0</td>\n",
       "      <td>0</td>\n",
       "      <td>0</td>\n",
       "      <td>0</td>\n",
       "      <td>0</td>\n",
       "      <td>0</td>\n",
       "      <td>0</td>\n",
       "      <td>1</td>\n",
       "      <td>0</td>\n",
       "      <td>0</td>\n",
       "      <td>0</td>\n",
       "      <td>0</td>\n",
       "      <td>0</td>\n",
       "      <td>0</td>\n",
       "      <td>0</td>\n",
       "      <td>0</td>\n",
       "      <td>0</td>\n",
       "      <td>0</td>\n",
       "      <td>0</td>\n",
       "      <td>0</td>\n",
       "      <td>0</td>\n",
       "      <td>0</td>\n",
       "      <td>0</td>\n",
       "      <td>0</td>\n",
       "      <td>0</td>\n",
       "      <td>0</td>\n",
       "      <td>0</td>\n",
       "      <td>0</td>\n",
       "      <td>0</td>\n",
       "      <td>0</td>\n",
       "      <td>0</td>\n",
       "      <td>0</td>\n",
       "      <td>0</td>\n",
       "      <td>0</td>\n",
       "      <td>1</td>\n",
       "      <td>1</td>\n",
       "    </tr>\n",
       "    <tr>\n",
       "      <th>3</th>\n",
       "      <td>25.50</td>\n",
       "      <td>13.0</td>\n",
       "      <td>8.0</td>\n",
       "      <td>64.0</td>\n",
       "      <td>6.0</td>\n",
       "      <td>7250.0</td>\n",
       "      <td>480.0</td>\n",
       "      <td>2020</td>\n",
       "      <td>345</td>\n",
       "      <td>5.630961</td>\n",
       "      <td>0</td>\n",
       "      <td>0</td>\n",
       "      <td>0</td>\n",
       "      <td>0</td>\n",
       "      <td>0</td>\n",
       "      <td>0</td>\n",
       "      <td>0</td>\n",
       "      <td>0</td>\n",
       "      <td>0</td>\n",
       "      <td>1</td>\n",
       "      <td>0</td>\n",
       "      <td>0</td>\n",
       "      <td>0</td>\n",
       "      <td>0</td>\n",
       "      <td>0</td>\n",
       "      <td>0</td>\n",
       "      <td>0</td>\n",
       "      <td>0</td>\n",
       "      <td>0</td>\n",
       "      <td>0</td>\n",
       "      <td>0</td>\n",
       "      <td>0</td>\n",
       "      <td>0</td>\n",
       "      <td>0</td>\n",
       "      <td>0</td>\n",
       "      <td>0</td>\n",
       "      <td>0</td>\n",
       "      <td>0</td>\n",
       "      <td>0</td>\n",
       "      <td>0</td>\n",
       "      <td>0</td>\n",
       "      <td>0</td>\n",
       "      <td>0</td>\n",
       "      <td>0</td>\n",
       "      <td>0</td>\n",
       "      <td>0</td>\n",
       "      <td>1</td>\n",
       "      <td>1</td>\n",
       "    </tr>\n",
       "    <tr>\n",
       "      <th>4</th>\n",
       "      <td>15.32</td>\n",
       "      <td>13.0</td>\n",
       "      <td>8.0</td>\n",
       "      <td>64.0</td>\n",
       "      <td>3.0</td>\n",
       "      <td>5000.0</td>\n",
       "      <td>185.0</td>\n",
       "      <td>2020</td>\n",
       "      <td>293</td>\n",
       "      <td>4.947837</td>\n",
       "      <td>0</td>\n",
       "      <td>0</td>\n",
       "      <td>0</td>\n",
       "      <td>0</td>\n",
       "      <td>0</td>\n",
       "      <td>0</td>\n",
       "      <td>0</td>\n",
       "      <td>0</td>\n",
       "      <td>0</td>\n",
       "      <td>1</td>\n",
       "      <td>0</td>\n",
       "      <td>0</td>\n",
       "      <td>0</td>\n",
       "      <td>0</td>\n",
       "      <td>0</td>\n",
       "      <td>0</td>\n",
       "      <td>0</td>\n",
       "      <td>0</td>\n",
       "      <td>0</td>\n",
       "      <td>0</td>\n",
       "      <td>0</td>\n",
       "      <td>0</td>\n",
       "      <td>0</td>\n",
       "      <td>0</td>\n",
       "      <td>0</td>\n",
       "      <td>0</td>\n",
       "      <td>0</td>\n",
       "      <td>0</td>\n",
       "      <td>0</td>\n",
       "      <td>0</td>\n",
       "      <td>0</td>\n",
       "      <td>0</td>\n",
       "      <td>0</td>\n",
       "      <td>0</td>\n",
       "      <td>0</td>\n",
       "      <td>0</td>\n",
       "      <td>1</td>\n",
       "      <td>0</td>\n",
       "    </tr>\n",
       "  </tbody>\n",
       "</table>\n",
       "</div>"
      ],
      "text/plain": [
       "   screen_size  main_camera_mp  selfie_camera_mp  int_memory  ram  battery  \\\n",
       "0        14.50            13.0               5.0        64.0  3.0   3020.0   \n",
       "1        17.30            13.0              16.0       128.0  8.0   4300.0   \n",
       "2        16.69            13.0               8.0       128.0  8.0   4200.0   \n",
       "3        25.50            13.0               8.0        64.0  6.0   7250.0   \n",
       "4        15.32            13.0               8.0        64.0  3.0   5000.0   \n",
       "\n",
       "   weight  release_year  days_used  new_price_log  brand_name_Alcatel  \\\n",
       "0   146.0          2020        127       4.715100                   0   \n",
       "1   213.0          2020        325       5.519018                   0   \n",
       "2   213.0          2020        162       5.884631                   0   \n",
       "3   480.0          2020        345       5.630961                   0   \n",
       "4   185.0          2020        293       4.947837                   0   \n",
       "\n",
       "   brand_name_Apple  brand_name_Asus  brand_name_BlackBerry  \\\n",
       "0                 0                0                      0   \n",
       "1                 0                0                      0   \n",
       "2                 0                0                      0   \n",
       "3                 0                0                      0   \n",
       "4                 0                0                      0   \n",
       "\n",
       "   brand_name_Celkon  brand_name_Coolpad  brand_name_Gionee  \\\n",
       "0                  0                   0                  0   \n",
       "1                  0                   0                  0   \n",
       "2                  0                   0                  0   \n",
       "3                  0                   0                  0   \n",
       "4                  0                   0                  0   \n",
       "\n",
       "   brand_name_Google  brand_name_HTC  brand_name_Honor  brand_name_Huawei  \\\n",
       "0                  0               0                 1                  0   \n",
       "1                  0               0                 1                  0   \n",
       "2                  0               0                 1                  0   \n",
       "3                  0               0                 1                  0   \n",
       "4                  0               0                 1                  0   \n",
       "\n",
       "   brand_name_Infinix  brand_name_Karbonn  brand_name_LG  brand_name_Lava  \\\n",
       "0                   0                   0              0                0   \n",
       "1                   0                   0              0                0   \n",
       "2                   0                   0              0                0   \n",
       "3                   0                   0              0                0   \n",
       "4                   0                   0              0                0   \n",
       "\n",
       "   brand_name_Lenovo  brand_name_Meizu  brand_name_Micromax  \\\n",
       "0                  0                 0                    0   \n",
       "1                  0                 0                    0   \n",
       "2                  0                 0                    0   \n",
       "3                  0                 0                    0   \n",
       "4                  0                 0                    0   \n",
       "\n",
       "   brand_name_Microsoft  brand_name_Motorola  brand_name_Nokia  \\\n",
       "0                     0                    0                 0   \n",
       "1                     0                    0                 0   \n",
       "2                     0                    0                 0   \n",
       "3                     0                    0                 0   \n",
       "4                     0                    0                 0   \n",
       "\n",
       "   brand_name_OnePlus  brand_name_Oppo  brand_name_Others  \\\n",
       "0                   0                0                  0   \n",
       "1                   0                0                  0   \n",
       "2                   0                0                  0   \n",
       "3                   0                0                  0   \n",
       "4                   0                0                  0   \n",
       "\n",
       "   brand_name_Panasonic  brand_name_Realme  brand_name_Samsung  \\\n",
       "0                     0                  0                   0   \n",
       "1                     0                  0                   0   \n",
       "2                     0                  0                   0   \n",
       "3                     0                  0                   0   \n",
       "4                     0                  0                   0   \n",
       "\n",
       "   brand_name_Sony  brand_name_Spice  brand_name_Vivo  brand_name_XOLO  \\\n",
       "0                0                 0                0                0   \n",
       "1                0                 0                0                0   \n",
       "2                0                 0                0                0   \n",
       "3                0                 0                0                0   \n",
       "4                0                 0                0                0   \n",
       "\n",
       "   brand_name_Xiaomi  brand_name_ZTE  os_Others  os_Windows  os_iOS  4g_yes  \\\n",
       "0                  0               0          0           0       0       1   \n",
       "1                  0               0          0           0       0       1   \n",
       "2                  0               0          0           0       0       1   \n",
       "3                  0               0          0           0       0       1   \n",
       "4                  0               0          0           0       0       1   \n",
       "\n",
       "   5g_yes  \n",
       "0       0  \n",
       "1       1  \n",
       "2       1  \n",
       "3       1  \n",
       "4       0  "
      ]
     },
     "execution_count": 29,
     "metadata": {},
     "output_type": "execute_result"
    }
   ],
   "source": [
    "X = pd.get_dummies(\n",
    "    X, \n",
    "    columns = X.select_dtypes(include=[\"object\", \"category\"]).columns.tolist(),\n",
    "    drop_first = True)\n",
    "\n",
    "print(X.shape)\n",
    "X.head()"
   ]
  },
  {
   "cell_type": "markdown",
   "id": "343617f2",
   "metadata": {},
   "source": [
    "#### Splitting the data into train and test data"
   ]
  },
  {
   "cell_type": "code",
   "execution_count": 30,
   "id": "6c99710d",
   "metadata": {},
   "outputs": [],
   "source": [
    "# Splitting the data into 70:30 ratio for train and test data\n",
    "\n",
    "x_train, x_test, y_train, y_test = train_test_split(X, y, test_size=0.3, random_state=1)"
   ]
  },
  {
   "cell_type": "code",
   "execution_count": 31,
   "id": "0e801081",
   "metadata": {},
   "outputs": [
    {
     "name": "stdout",
     "output_type": "stream",
     "text": [
      "Number of rows in train data:  2417\n",
      "Number of rows in test data: 1037\n"
     ]
    }
   ],
   "source": [
    "print(\"Number of rows in train data: \", x_train.shape[0])\n",
    "print(\"Number of rows in test data:\", x_test.shape[0])"
   ]
  },
  {
   "cell_type": "markdown",
   "id": "fb5f1815",
   "metadata": {},
   "source": [
    "## Linear Regression Model"
   ]
  },
  {
   "cell_type": "markdown",
   "id": "bb36856a",
   "metadata": {},
   "source": [
    "### Building the Model"
   ]
  },
  {
   "cell_type": "code",
   "execution_count": 32,
   "id": "d8e29aa9",
   "metadata": {},
   "outputs": [
    {
     "name": "stdout",
     "output_type": "stream",
     "text": [
      "                            OLS Regression Results                            \n",
      "==============================================================================\n",
      "Dep. Variable:         used_price_log   R-squared:                       0.845\n",
      "Model:                            OLS   Adj. R-squared:                  0.842\n",
      "Method:                 Least Squares   F-statistic:                     268.8\n",
      "Date:                Tue, 06 Sep 2022   Prob (F-statistic):               0.00\n",
      "Time:                        15:02:06   Log-Likelihood:                 124.15\n",
      "No. Observations:                2417   AIC:                            -150.3\n",
      "Df Residuals:                    2368   BIC:                             133.4\n",
      "Df Model:                          48                                         \n",
      "Covariance Type:            nonrobust                                         \n",
      "=========================================================================================\n",
      "                            coef    std err          t      P>|t|      [0.025      0.975]\n",
      "-----------------------------------------------------------------------------------------\n",
      "const                   -46.4646      9.197     -5.052      0.000     -64.500     -28.430\n",
      "screen_size               0.0244      0.003      7.156      0.000       0.018       0.031\n",
      "main_camera_mp            0.0208      0.002     13.848      0.000       0.018       0.024\n",
      "selfie_camera_mp          0.0135      0.001     11.996      0.000       0.011       0.016\n",
      "int_memory                0.0001   6.97e-05      1.664      0.096   -2.07e-05       0.000\n",
      "ram                       0.0232      0.005      4.515      0.000       0.013       0.033\n",
      "battery               -1.686e-05   7.27e-06     -2.318      0.021   -3.11e-05    -2.6e-06\n",
      "weight                    0.0010      0.000      7.488      0.000       0.001       0.001\n",
      "release_year              0.0236      0.005      5.189      0.000       0.015       0.033\n",
      "days_used              4.196e-05   3.09e-05      1.360      0.174   -1.85e-05       0.000\n",
      "new_price_log             0.4309      0.012     35.134      0.000       0.407       0.455\n",
      "brand_name_Alcatel        0.0154      0.048      0.324      0.746      -0.078       0.109\n",
      "brand_name_Apple         -0.0032      0.147     -0.021      0.983      -0.292       0.285\n",
      "brand_name_Asus           0.0150      0.048      0.313      0.754      -0.079       0.109\n",
      "brand_name_BlackBerry    -0.0297      0.070     -0.423      0.672      -0.167       0.108\n",
      "brand_name_Celkon        -0.0463      0.066     -0.699      0.484      -0.176       0.084\n",
      "brand_name_Coolpad        0.0209      0.073      0.286      0.775      -0.122       0.164\n",
      "brand_name_Gionee         0.0447      0.058      0.775      0.438      -0.068       0.158\n",
      "brand_name_Google        -0.0327      0.085     -0.386      0.700      -0.199       0.133\n",
      "brand_name_HTC           -0.0131      0.048     -0.271      0.786      -0.108       0.081\n",
      "brand_name_Honor          0.0316      0.049      0.642      0.521      -0.065       0.128\n",
      "brand_name_Huawei        -0.0022      0.044     -0.049      0.961      -0.089       0.085\n",
      "brand_name_Infinix        0.1634      0.093      1.753      0.080      -0.019       0.346\n",
      "brand_name_Karbonn        0.0943      0.067      1.406      0.160      -0.037       0.226\n",
      "brand_name_LG            -0.0132      0.045     -0.292      0.771      -0.102       0.076\n",
      "brand_name_Lava           0.0332      0.062      0.533      0.594      -0.089       0.155\n",
      "brand_name_Lenovo         0.0453      0.045      1.003      0.316      -0.043       0.134\n",
      "brand_name_Meizu         -0.0130      0.056     -0.232      0.817      -0.123       0.097\n",
      "brand_name_Micromax      -0.0337      0.048     -0.704      0.481      -0.128       0.060\n",
      "brand_name_Microsoft      0.0947      0.088      1.072      0.284      -0.079       0.268\n",
      "brand_name_Motorola      -0.0113      0.050     -0.228      0.820      -0.109       0.086\n",
      "brand_name_Nokia          0.0705      0.052      1.362      0.173      -0.031       0.172\n",
      "brand_name_OnePlus        0.0707      0.077      0.913      0.361      -0.081       0.222\n",
      "brand_name_Oppo           0.0124      0.048      0.259      0.796      -0.081       0.106\n",
      "brand_name_Others        -0.0080      0.042     -0.191      0.849      -0.091       0.074\n",
      "brand_name_Panasonic      0.0562      0.056      1.006      0.314      -0.053       0.166\n",
      "brand_name_Realme         0.0319      0.062      0.517      0.605      -0.089       0.153\n",
      "brand_name_Samsung       -0.0314      0.043     -0.726      0.468      -0.116       0.053\n",
      "brand_name_Sony          -0.0616      0.050     -1.221      0.222      -0.161       0.037\n",
      "brand_name_Spice         -0.0148      0.063     -0.234      0.815      -0.139       0.109\n",
      "brand_name_Vivo          -0.0155      0.048     -0.320      0.749      -0.111       0.080\n",
      "brand_name_XOLO           0.0151      0.055      0.276      0.783      -0.092       0.123\n",
      "brand_name_Xiaomi         0.0868      0.048      1.804      0.071      -0.008       0.181\n",
      "brand_name_ZTE           -0.0058      0.047     -0.122      0.903      -0.099       0.087\n",
      "os_Others                -0.0519      0.033     -1.585      0.113      -0.116       0.012\n",
      "os_Windows               -0.0202      0.045     -0.448      0.654      -0.109       0.068\n",
      "os_iOS                   -0.0669      0.146     -0.457      0.648      -0.354       0.220\n",
      "4g_yes                    0.0530      0.016      3.341      0.001       0.022       0.084\n",
      "5g_yes                   -0.0721      0.031     -2.292      0.022      -0.134      -0.010\n",
      "==============================================================================\n",
      "Omnibus:                      223.220   Durbin-Watson:                   1.911\n",
      "Prob(Omnibus):                  0.000   Jarque-Bera (JB):              422.514\n",
      "Skew:                          -0.618   Prob(JB):                     1.79e-92\n",
      "Kurtosis:                       4.633   Cond. No.                     7.70e+06\n",
      "==============================================================================\n",
      "\n",
      "Notes:\n",
      "[1] Standard Errors assume that the covariance matrix of the errors is correctly specified.\n",
      "[2] The condition number is large, 7.7e+06. This might indicate that there are\n",
      "strong multicollinearity or other numerical problems.\n"
     ]
    }
   ],
   "source": [
    "# adding constant to the train data\n",
    "x_train1 = sm.add_constant(x_train)\n",
    "\n",
    "# adding constant to the test data\n",
    "x_test1 = sm.add_constant(x_test)\n",
    "\n",
    "olsmodel1 = sm.OLS(y_train, x_train1).fit()\n",
    "print(olsmodel1.summary())"
   ]
  },
  {
   "cell_type": "markdown",
   "id": "a6250d47",
   "metadata": {},
   "source": [
    "Observations: \n",
    "- Adjusted R-squared value = 0.842\n",
    "    - This value reflects the current fit of our model. 0.842 is close to 1 which indicates that our model is generally a good fit. \n",
    "- our *const* Coefficient value is -46.4646. This represents our y-intercept. "
   ]
  },
  {
   "cell_type": "markdown",
   "id": "682c452f",
   "metadata": {},
   "source": [
    "## Model Performance Evaluation\n",
    "- In order to give us the best insights, we will transform the used and new price variables that are currently in log form using the .exp transformation to obtain the actual form. \n",
    "    - Logarithmic functions are the inverses of exponential functions. \n",
    "- Once, they are transformed, we will check the performance of the model again. \n",
    "- We will also be calculating and checking: RMSE, MAE, and MAPE for our model. \n",
    "    - RMSE = root mean square deviation\n",
    "    - MAE = mean absolute error\n",
    "    - MAPE = mean absolute percentage error"
   ]
  },
  {
   "cell_type": "code",
   "execution_count": 33,
   "id": "b537b4e9",
   "metadata": {},
   "outputs": [],
   "source": [
    "# Function to compute MAPE\n",
    "def mape_score(targets, predictions):\n",
    "    return np.mean(np.abs(targets - predictions)/targets) * 100\n",
    "\n",
    "# Function to compute adjusted R-squared:\n",
    "def adj_r2_score(predictors, targets, predictions):\n",
    "    r2 = r2_score(targets, predictions)\n",
    "    n = predictors.shape[0]\n",
    "    k = predictors.shape[1]\n",
    "    return 1 - ((1-r2) * (n-1) / (n-k-1))\n",
    "\n",
    "# Function to compute different metrics to check performance of a regression model\n",
    "def model_performance_regression(model, predictors, target):\n",
    "    pred = model.predict(predictors) #predicting using the independent variables\n",
    "    \n",
    "    #computing the prices using .exp (exponential function)\n",
    "    target = np.exp(target)\n",
    "    pred = np.exp(pred)\n",
    "    \n",
    "    r2 = r2_score(target, pred) #to compute R-squared\n",
    "    adjr2 = adj_r2_score(predictors, target, pred) #to compute adjusted R-squared\n",
    "   \n",
    "    rmse = np.sqrt(mean_squared_error(target, pred)) #to compute RMSE\n",
    "    mae = mean_absolute_error(target,pred) #to compute MAE\n",
    "    mape = mape_score(target, pred) #to compute MAPE\n",
    "    \n",
    "    #creating a dataframe of the metrics\n",
    "    df_perf = pd.DataFrame(\n",
    "        {\n",
    "            \"RMSE\": rmse, \n",
    "            \"MAE\": mae, \n",
    "            \"R-squared\": r2,\n",
    "            \"Adj. R-squared\": adjr2,\n",
    "            \"MAPE\": mape\n",
    "        }, index = [0]\n",
    "        )\n",
    "    \n",
    "    return df_perf"
   ]
  },
  {
   "cell_type": "code",
   "execution_count": 34,
   "id": "686ee6b4",
   "metadata": {},
   "outputs": [
    {
     "name": "stdout",
     "output_type": "stream",
     "text": [
      "Training Performance\n",
      "\n"
     ]
    },
    {
     "data": {
      "text/html": [
       "<div>\n",
       "<style scoped>\n",
       "    .dataframe tbody tr th:only-of-type {\n",
       "        vertical-align: middle;\n",
       "    }\n",
       "\n",
       "    .dataframe tbody tr th {\n",
       "        vertical-align: top;\n",
       "    }\n",
       "\n",
       "    .dataframe thead th {\n",
       "        text-align: right;\n",
       "    }\n",
       "</style>\n",
       "<table border=\"1\" class=\"dataframe\">\n",
       "  <thead>\n",
       "    <tr style=\"text-align: right;\">\n",
       "      <th></th>\n",
       "      <th>RMSE</th>\n",
       "      <th>MAE</th>\n",
       "      <th>R-squared</th>\n",
       "      <th>Adj. R-squared</th>\n",
       "      <th>MAPE</th>\n",
       "    </tr>\n",
       "  </thead>\n",
       "  <tbody>\n",
       "    <tr>\n",
       "      <th>0</th>\n",
       "      <td>25.123521</td>\n",
       "      <td>16.537847</td>\n",
       "      <td>0.794845</td>\n",
       "      <td>0.790598</td>\n",
       "      <td>18.869237</td>\n",
       "    </tr>\n",
       "  </tbody>\n",
       "</table>\n",
       "</div>"
      ],
      "text/plain": [
       "        RMSE        MAE  R-squared  Adj. R-squared       MAPE\n",
       "0  25.123521  16.537847   0.794845        0.790598  18.869237"
      ]
     },
     "execution_count": 34,
     "metadata": {},
     "output_type": "execute_result"
    }
   ],
   "source": [
    "# Checking the model performance on the train set (70% of the data)\n",
    "print (\"Training Performance\\n\")\n",
    "olsmodel1_train_perf = model_performance_regression(olsmodel1, x_train1, y_train)\n",
    "olsmodel1_train_perf"
   ]
  },
  {
   "cell_type": "code",
   "execution_count": 35,
   "id": "9ca22c70",
   "metadata": {},
   "outputs": [
    {
     "name": "stdout",
     "output_type": "stream",
     "text": [
      "Test Performance\n",
      "\n"
     ]
    },
    {
     "data": {
      "text/html": [
       "<div>\n",
       "<style scoped>\n",
       "    .dataframe tbody tr th:only-of-type {\n",
       "        vertical-align: middle;\n",
       "    }\n",
       "\n",
       "    .dataframe tbody tr th {\n",
       "        vertical-align: top;\n",
       "    }\n",
       "\n",
       "    .dataframe thead th {\n",
       "        text-align: right;\n",
       "    }\n",
       "</style>\n",
       "<table border=\"1\" class=\"dataframe\">\n",
       "  <thead>\n",
       "    <tr style=\"text-align: right;\">\n",
       "      <th></th>\n",
       "      <th>RMSE</th>\n",
       "      <th>MAE</th>\n",
       "      <th>R-squared</th>\n",
       "      <th>Adj. R-squared</th>\n",
       "      <th>MAPE</th>\n",
       "    </tr>\n",
       "  </thead>\n",
       "  <tbody>\n",
       "    <tr>\n",
       "      <th>0</th>\n",
       "      <td>24.259754</td>\n",
       "      <td>16.602146</td>\n",
       "      <td>0.789237</td>\n",
       "      <td>0.778774</td>\n",
       "      <td>19.464147</td>\n",
       "    </tr>\n",
       "  </tbody>\n",
       "</table>\n",
       "</div>"
      ],
      "text/plain": [
       "        RMSE        MAE  R-squared  Adj. R-squared       MAPE\n",
       "0  24.259754  16.602146   0.789237        0.778774  19.464147"
      ]
     },
     "execution_count": 35,
     "metadata": {},
     "output_type": "execute_result"
    }
   ],
   "source": [
    "# Checking the model performance on the test set (30% of the data)\n",
    "print (\"Test Performance\\n\")\n",
    "olsmodel1_test_perf = model_performance_regression(olsmodel1, x_test1, y_test)\n",
    "olsmodel1_test_perf"
   ]
  },
  {
   "cell_type": "markdown",
   "id": "c6791474",
   "metadata": {},
   "source": [
    "Observations: \n",
    "- The train and test RMSE and MAE are super close in value and are very comparable. This indicates that our model is not overfitting. \n",
    "- The MAE suggests that the model can predict the used price within a mean error of 16.6 euros on the test data. \n",
    "- The MAPE of 19.46 on the test data means that we are able to predict the used price within 19.46%. "
   ]
  },
  {
   "cell_type": "markdown",
   "id": "4c207d96",
   "metadata": {},
   "source": [
    "## Checking Linear Regression Assumptions\n",
    "\n",
    "The following linear regression assumptions will be checked:\n",
    "1. No multicollinearity\n",
    "2. Linearity of variables\n",
    "3. Independence of error terms\n",
    "4. Normality of error terms\n",
    "5. No heteroscedasticity"
   ]
  },
  {
   "cell_type": "markdown",
   "id": "97c4309c",
   "metadata": {},
   "source": [
    "### 1. Testing for Multicollinearity\n",
    "Using VIF (Variance inflation factor)"
   ]
  },
  {
   "cell_type": "code",
   "execution_count": 36,
   "id": "0e13b7f7",
   "metadata": {},
   "outputs": [],
   "source": [
    "#defining a function to check the VIF\n",
    "def checking_vif(predictors):\n",
    "    vif = pd.DataFrame()\n",
    "    vif[\"feature\"] = predictors.columns\n",
    "    \n",
    "    #calculating VIF for each feature\n",
    "    vif[\"VIF\"] = [variance_inflation_factor(predictors.values, i)\n",
    "                 for i in range(len(predictors.columns))]\n",
    "    return vif"
   ]
  },
  {
   "cell_type": "code",
   "execution_count": 37,
   "id": "f2ad910b",
   "metadata": {},
   "outputs": [
    {
     "data": {
      "text/html": [
       "<div>\n",
       "<style scoped>\n",
       "    .dataframe tbody tr th:only-of-type {\n",
       "        vertical-align: middle;\n",
       "    }\n",
       "\n",
       "    .dataframe tbody tr th {\n",
       "        vertical-align: top;\n",
       "    }\n",
       "\n",
       "    .dataframe thead th {\n",
       "        text-align: right;\n",
       "    }\n",
       "</style>\n",
       "<table border=\"1\" class=\"dataframe\">\n",
       "  <thead>\n",
       "    <tr style=\"text-align: right;\">\n",
       "      <th></th>\n",
       "      <th>feature</th>\n",
       "      <th>VIF</th>\n",
       "    </tr>\n",
       "  </thead>\n",
       "  <tbody>\n",
       "    <tr>\n",
       "      <th>0</th>\n",
       "      <td>const</td>\n",
       "      <td>3.791082e+06</td>\n",
       "    </tr>\n",
       "    <tr>\n",
       "      <th>1</th>\n",
       "      <td>screen_size</td>\n",
       "      <td>7.677118e+00</td>\n",
       "    </tr>\n",
       "    <tr>\n",
       "      <th>2</th>\n",
       "      <td>main_camera_mp</td>\n",
       "      <td>2.284685e+00</td>\n",
       "    </tr>\n",
       "    <tr>\n",
       "      <th>3</th>\n",
       "      <td>selfie_camera_mp</td>\n",
       "      <td>2.810716e+00</td>\n",
       "    </tr>\n",
       "    <tr>\n",
       "      <th>4</th>\n",
       "      <td>int_memory</td>\n",
       "      <td>1.364057e+00</td>\n",
       "    </tr>\n",
       "    <tr>\n",
       "      <th>5</th>\n",
       "      <td>ram</td>\n",
       "      <td>2.255246e+00</td>\n",
       "    </tr>\n",
       "    <tr>\n",
       "      <th>6</th>\n",
       "      <td>battery</td>\n",
       "      <td>4.081715e+00</td>\n",
       "    </tr>\n",
       "    <tr>\n",
       "      <th>7</th>\n",
       "      <td>weight</td>\n",
       "      <td>6.397183e+00</td>\n",
       "    </tr>\n",
       "    <tr>\n",
       "      <th>8</th>\n",
       "      <td>release_year</td>\n",
       "      <td>4.898360e+00</td>\n",
       "    </tr>\n",
       "    <tr>\n",
       "      <th>9</th>\n",
       "      <td>days_used</td>\n",
       "      <td>2.660002e+00</td>\n",
       "    </tr>\n",
       "    <tr>\n",
       "      <th>10</th>\n",
       "      <td>new_price_log</td>\n",
       "      <td>3.119569e+00</td>\n",
       "    </tr>\n",
       "    <tr>\n",
       "      <th>11</th>\n",
       "      <td>brand_name_Alcatel</td>\n",
       "      <td>3.405674e+00</td>\n",
       "    </tr>\n",
       "    <tr>\n",
       "      <th>12</th>\n",
       "      <td>brand_name_Apple</td>\n",
       "      <td>1.305483e+01</td>\n",
       "    </tr>\n",
       "    <tr>\n",
       "      <th>13</th>\n",
       "      <td>brand_name_Asus</td>\n",
       "      <td>3.332003e+00</td>\n",
       "    </tr>\n",
       "    <tr>\n",
       "      <th>14</th>\n",
       "      <td>brand_name_BlackBerry</td>\n",
       "      <td>1.632250e+00</td>\n",
       "    </tr>\n",
       "    <tr>\n",
       "      <th>15</th>\n",
       "      <td>brand_name_Celkon</td>\n",
       "      <td>1.774820e+00</td>\n",
       "    </tr>\n",
       "    <tr>\n",
       "      <th>16</th>\n",
       "      <td>brand_name_Coolpad</td>\n",
       "      <td>1.467981e+00</td>\n",
       "    </tr>\n",
       "    <tr>\n",
       "      <th>17</th>\n",
       "      <td>brand_name_Gionee</td>\n",
       "      <td>1.951247e+00</td>\n",
       "    </tr>\n",
       "    <tr>\n",
       "      <th>18</th>\n",
       "      <td>brand_name_Google</td>\n",
       "      <td>1.321771e+00</td>\n",
       "    </tr>\n",
       "    <tr>\n",
       "      <th>19</th>\n",
       "      <td>brand_name_HTC</td>\n",
       "      <td>3.410252e+00</td>\n",
       "    </tr>\n",
       "    <tr>\n",
       "      <th>20</th>\n",
       "      <td>brand_name_Honor</td>\n",
       "      <td>3.340621e+00</td>\n",
       "    </tr>\n",
       "    <tr>\n",
       "      <th>21</th>\n",
       "      <td>brand_name_Huawei</td>\n",
       "      <td>5.983857e+00</td>\n",
       "    </tr>\n",
       "    <tr>\n",
       "      <th>22</th>\n",
       "      <td>brand_name_Infinix</td>\n",
       "      <td>1.283814e+00</td>\n",
       "    </tr>\n",
       "    <tr>\n",
       "      <th>23</th>\n",
       "      <td>brand_name_Karbonn</td>\n",
       "      <td>1.573683e+00</td>\n",
       "    </tr>\n",
       "    <tr>\n",
       "      <th>24</th>\n",
       "      <td>brand_name_LG</td>\n",
       "      <td>4.849589e+00</td>\n",
       "    </tr>\n",
       "    <tr>\n",
       "      <th>25</th>\n",
       "      <td>brand_name_Lava</td>\n",
       "      <td>1.711317e+00</td>\n",
       "    </tr>\n",
       "    <tr>\n",
       "      <th>26</th>\n",
       "      <td>brand_name_Lenovo</td>\n",
       "      <td>4.558847e+00</td>\n",
       "    </tr>\n",
       "    <tr>\n",
       "      <th>27</th>\n",
       "      <td>brand_name_Meizu</td>\n",
       "      <td>2.179607e+00</td>\n",
       "    </tr>\n",
       "    <tr>\n",
       "      <th>28</th>\n",
       "      <td>brand_name_Micromax</td>\n",
       "      <td>3.363518e+00</td>\n",
       "    </tr>\n",
       "    <tr>\n",
       "      <th>29</th>\n",
       "      <td>brand_name_Microsoft</td>\n",
       "      <td>1.869558e+00</td>\n",
       "    </tr>\n",
       "    <tr>\n",
       "      <th>30</th>\n",
       "      <td>brand_name_Motorola</td>\n",
       "      <td>3.274455e+00</td>\n",
       "    </tr>\n",
       "    <tr>\n",
       "      <th>31</th>\n",
       "      <td>brand_name_Nokia</td>\n",
       "      <td>3.473140e+00</td>\n",
       "    </tr>\n",
       "    <tr>\n",
       "      <th>32</th>\n",
       "      <td>brand_name_OnePlus</td>\n",
       "      <td>1.437047e+00</td>\n",
       "    </tr>\n",
       "    <tr>\n",
       "      <th>33</th>\n",
       "      <td>brand_name_Oppo</td>\n",
       "      <td>3.971065e+00</td>\n",
       "    </tr>\n",
       "    <tr>\n",
       "      <th>34</th>\n",
       "      <td>brand_name_Others</td>\n",
       "      <td>9.710921e+00</td>\n",
       "    </tr>\n",
       "    <tr>\n",
       "      <th>35</th>\n",
       "      <td>brand_name_Panasonic</td>\n",
       "      <td>2.105711e+00</td>\n",
       "    </tr>\n",
       "    <tr>\n",
       "      <th>36</th>\n",
       "      <td>brand_name_Realme</td>\n",
       "      <td>1.946675e+00</td>\n",
       "    </tr>\n",
       "    <tr>\n",
       "      <th>37</th>\n",
       "      <td>brand_name_Samsung</td>\n",
       "      <td>7.539832e+00</td>\n",
       "    </tr>\n",
       "    <tr>\n",
       "      <th>38</th>\n",
       "      <td>brand_name_Sony</td>\n",
       "      <td>2.943127e+00</td>\n",
       "    </tr>\n",
       "    <tr>\n",
       "      <th>39</th>\n",
       "      <td>brand_name_Spice</td>\n",
       "      <td>1.688868e+00</td>\n",
       "    </tr>\n",
       "    <tr>\n",
       "      <th>40</th>\n",
       "      <td>brand_name_Vivo</td>\n",
       "      <td>3.651320e+00</td>\n",
       "    </tr>\n",
       "    <tr>\n",
       "      <th>41</th>\n",
       "      <td>brand_name_XOLO</td>\n",
       "      <td>2.138074e+00</td>\n",
       "    </tr>\n",
       "    <tr>\n",
       "      <th>42</th>\n",
       "      <td>brand_name_Xiaomi</td>\n",
       "      <td>3.719678e+00</td>\n",
       "    </tr>\n",
       "    <tr>\n",
       "      <th>43</th>\n",
       "      <td>brand_name_ZTE</td>\n",
       "      <td>3.797527e+00</td>\n",
       "    </tr>\n",
       "    <tr>\n",
       "      <th>44</th>\n",
       "      <td>os_Others</td>\n",
       "      <td>1.854134e+00</td>\n",
       "    </tr>\n",
       "    <tr>\n",
       "      <th>45</th>\n",
       "      <td>os_Windows</td>\n",
       "      <td>1.595291e+00</td>\n",
       "    </tr>\n",
       "    <tr>\n",
       "      <th>46</th>\n",
       "      <td>os_iOS</td>\n",
       "      <td>1.178077e+01</td>\n",
       "    </tr>\n",
       "    <tr>\n",
       "      <th>47</th>\n",
       "      <td>4g_yes</td>\n",
       "      <td>2.468374e+00</td>\n",
       "    </tr>\n",
       "    <tr>\n",
       "      <th>48</th>\n",
       "      <td>5g_yes</td>\n",
       "      <td>1.811042e+00</td>\n",
       "    </tr>\n",
       "  </tbody>\n",
       "</table>\n",
       "</div>"
      ],
      "text/plain": [
       "                  feature           VIF\n",
       "0                   const  3.791082e+06\n",
       "1             screen_size  7.677118e+00\n",
       "2          main_camera_mp  2.284685e+00\n",
       "3        selfie_camera_mp  2.810716e+00\n",
       "4              int_memory  1.364057e+00\n",
       "5                     ram  2.255246e+00\n",
       "6                 battery  4.081715e+00\n",
       "7                  weight  6.397183e+00\n",
       "8            release_year  4.898360e+00\n",
       "9               days_used  2.660002e+00\n",
       "10          new_price_log  3.119569e+00\n",
       "11     brand_name_Alcatel  3.405674e+00\n",
       "12       brand_name_Apple  1.305483e+01\n",
       "13        brand_name_Asus  3.332003e+00\n",
       "14  brand_name_BlackBerry  1.632250e+00\n",
       "15      brand_name_Celkon  1.774820e+00\n",
       "16     brand_name_Coolpad  1.467981e+00\n",
       "17      brand_name_Gionee  1.951247e+00\n",
       "18      brand_name_Google  1.321771e+00\n",
       "19         brand_name_HTC  3.410252e+00\n",
       "20       brand_name_Honor  3.340621e+00\n",
       "21      brand_name_Huawei  5.983857e+00\n",
       "22     brand_name_Infinix  1.283814e+00\n",
       "23     brand_name_Karbonn  1.573683e+00\n",
       "24          brand_name_LG  4.849589e+00\n",
       "25        brand_name_Lava  1.711317e+00\n",
       "26      brand_name_Lenovo  4.558847e+00\n",
       "27       brand_name_Meizu  2.179607e+00\n",
       "28    brand_name_Micromax  3.363518e+00\n",
       "29   brand_name_Microsoft  1.869558e+00\n",
       "30    brand_name_Motorola  3.274455e+00\n",
       "31       brand_name_Nokia  3.473140e+00\n",
       "32     brand_name_OnePlus  1.437047e+00\n",
       "33        brand_name_Oppo  3.971065e+00\n",
       "34      brand_name_Others  9.710921e+00\n",
       "35   brand_name_Panasonic  2.105711e+00\n",
       "36      brand_name_Realme  1.946675e+00\n",
       "37     brand_name_Samsung  7.539832e+00\n",
       "38        brand_name_Sony  2.943127e+00\n",
       "39       brand_name_Spice  1.688868e+00\n",
       "40        brand_name_Vivo  3.651320e+00\n",
       "41        brand_name_XOLO  2.138074e+00\n",
       "42      brand_name_Xiaomi  3.719678e+00\n",
       "43         brand_name_ZTE  3.797527e+00\n",
       "44              os_Others  1.854134e+00\n",
       "45             os_Windows  1.595291e+00\n",
       "46                 os_iOS  1.178077e+01\n",
       "47                 4g_yes  2.468374e+00\n",
       "48                 5g_yes  1.811042e+00"
      ]
     },
     "execution_count": 37,
     "metadata": {},
     "output_type": "execute_result"
    }
   ],
   "source": [
    "#checking the VIF on the training data\n",
    "checking_vif(x_train1)"
   ]
  },
  {
   "cell_type": "markdown",
   "id": "999c824b",
   "metadata": {},
   "source": [
    "- screen_size, weight, brand_name_Huawei,brand_name_Others, and brand_name_Samsung have VIFs that are greater than 5.\n",
    "- None of these VIFs are over 10 which indicates that the regression coefficients are not poorly estimated due to multicollinearity. So none of the variables will be dropped here. \n",
    "    - No true multicollinearity is present and assumption is satisfied. "
   ]
  },
  {
   "cell_type": "markdown",
   "id": "534ba9fe",
   "metadata": {},
   "source": [
    "#### Checking p-values of the predictor variables to check their significance. \n",
    "- we will be checking all of the variables that have p-values > 0.05. \n",
    "- Because p-values sometimes change after dropping a variable, we will not be dropping all of the variables with high p-values all at once.\n",
    "- We will approach this by building a model, checking the p-values of the variables, dropping the column with the highest p-value, creating a new model without that variable, checking the p-values again, dropping the column with the highest p-value, and then repeating until there are no more columns with p-values > 0.05. \n",
    "- We will be doing this using a while loop. "
   ]
  },
  {
   "cell_type": "code",
   "execution_count": 38,
   "id": "145b2411",
   "metadata": {},
   "outputs": [
    {
     "name": "stdout",
     "output_type": "stream",
     "text": [
      "                            OLS Regression Results                            \n",
      "==============================================================================\n",
      "Dep. Variable:         used_price_log   R-squared:                       0.845\n",
      "Model:                            OLS   Adj. R-squared:                  0.842\n",
      "Method:                 Least Squares   F-statistic:                     268.8\n",
      "Date:                Tue, 06 Sep 2022   Prob (F-statistic):               0.00\n",
      "Time:                        15:02:06   Log-Likelihood:                 124.15\n",
      "No. Observations:                2417   AIC:                            -150.3\n",
      "Df Residuals:                    2368   BIC:                             133.4\n",
      "Df Model:                          48                                         \n",
      "Covariance Type:            nonrobust                                         \n",
      "=========================================================================================\n",
      "                            coef    std err          t      P>|t|      [0.025      0.975]\n",
      "-----------------------------------------------------------------------------------------\n",
      "const                   -46.4646      9.197     -5.052      0.000     -64.500     -28.430\n",
      "screen_size               0.0244      0.003      7.156      0.000       0.018       0.031\n",
      "main_camera_mp            0.0208      0.002     13.848      0.000       0.018       0.024\n",
      "selfie_camera_mp          0.0135      0.001     11.996      0.000       0.011       0.016\n",
      "int_memory                0.0001   6.97e-05      1.664      0.096   -2.07e-05       0.000\n",
      "ram                       0.0232      0.005      4.515      0.000       0.013       0.033\n",
      "battery               -1.686e-05   7.27e-06     -2.318      0.021   -3.11e-05    -2.6e-06\n",
      "weight                    0.0010      0.000      7.488      0.000       0.001       0.001\n",
      "release_year              0.0236      0.005      5.189      0.000       0.015       0.033\n",
      "days_used              4.196e-05   3.09e-05      1.360      0.174   -1.85e-05       0.000\n",
      "new_price_log             0.4309      0.012     35.134      0.000       0.407       0.455\n",
      "brand_name_Alcatel        0.0154      0.048      0.324      0.746      -0.078       0.109\n",
      "brand_name_Apple         -0.0032      0.147     -0.021      0.983      -0.292       0.285\n",
      "brand_name_Asus           0.0150      0.048      0.313      0.754      -0.079       0.109\n",
      "brand_name_BlackBerry    -0.0297      0.070     -0.423      0.672      -0.167       0.108\n",
      "brand_name_Celkon        -0.0463      0.066     -0.699      0.484      -0.176       0.084\n",
      "brand_name_Coolpad        0.0209      0.073      0.286      0.775      -0.122       0.164\n",
      "brand_name_Gionee         0.0447      0.058      0.775      0.438      -0.068       0.158\n",
      "brand_name_Google        -0.0327      0.085     -0.386      0.700      -0.199       0.133\n",
      "brand_name_HTC           -0.0131      0.048     -0.271      0.786      -0.108       0.081\n",
      "brand_name_Honor          0.0316      0.049      0.642      0.521      -0.065       0.128\n",
      "brand_name_Huawei        -0.0022      0.044     -0.049      0.961      -0.089       0.085\n",
      "brand_name_Infinix        0.1634      0.093      1.753      0.080      -0.019       0.346\n",
      "brand_name_Karbonn        0.0943      0.067      1.406      0.160      -0.037       0.226\n",
      "brand_name_LG            -0.0132      0.045     -0.292      0.771      -0.102       0.076\n",
      "brand_name_Lava           0.0332      0.062      0.533      0.594      -0.089       0.155\n",
      "brand_name_Lenovo         0.0453      0.045      1.003      0.316      -0.043       0.134\n",
      "brand_name_Meizu         -0.0130      0.056     -0.232      0.817      -0.123       0.097\n",
      "brand_name_Micromax      -0.0337      0.048     -0.704      0.481      -0.128       0.060\n",
      "brand_name_Microsoft      0.0947      0.088      1.072      0.284      -0.079       0.268\n",
      "brand_name_Motorola      -0.0113      0.050     -0.228      0.820      -0.109       0.086\n",
      "brand_name_Nokia          0.0705      0.052      1.362      0.173      -0.031       0.172\n",
      "brand_name_OnePlus        0.0707      0.077      0.913      0.361      -0.081       0.222\n",
      "brand_name_Oppo           0.0124      0.048      0.259      0.796      -0.081       0.106\n",
      "brand_name_Others        -0.0080      0.042     -0.191      0.849      -0.091       0.074\n",
      "brand_name_Panasonic      0.0562      0.056      1.006      0.314      -0.053       0.166\n",
      "brand_name_Realme         0.0319      0.062      0.517      0.605      -0.089       0.153\n",
      "brand_name_Samsung       -0.0314      0.043     -0.726      0.468      -0.116       0.053\n",
      "brand_name_Sony          -0.0616      0.050     -1.221      0.222      -0.161       0.037\n",
      "brand_name_Spice         -0.0148      0.063     -0.234      0.815      -0.139       0.109\n",
      "brand_name_Vivo          -0.0155      0.048     -0.320      0.749      -0.111       0.080\n",
      "brand_name_XOLO           0.0151      0.055      0.276      0.783      -0.092       0.123\n",
      "brand_name_Xiaomi         0.0868      0.048      1.804      0.071      -0.008       0.181\n",
      "brand_name_ZTE           -0.0058      0.047     -0.122      0.903      -0.099       0.087\n",
      "os_Others                -0.0519      0.033     -1.585      0.113      -0.116       0.012\n",
      "os_Windows               -0.0202      0.045     -0.448      0.654      -0.109       0.068\n",
      "os_iOS                   -0.0669      0.146     -0.457      0.648      -0.354       0.220\n",
      "4g_yes                    0.0530      0.016      3.341      0.001       0.022       0.084\n",
      "5g_yes                   -0.0721      0.031     -2.292      0.022      -0.134      -0.010\n",
      "==============================================================================\n",
      "Omnibus:                      223.220   Durbin-Watson:                   1.911\n",
      "Prob(Omnibus):                  0.000   Jarque-Bera (JB):              422.514\n",
      "Skew:                          -0.618   Prob(JB):                     1.79e-92\n",
      "Kurtosis:                       4.633   Cond. No.                     7.70e+06\n",
      "==============================================================================\n",
      "\n",
      "Notes:\n",
      "[1] Standard Errors assume that the covariance matrix of the errors is correctly specified.\n",
      "[2] The condition number is large, 7.7e+06. This might indicate that there are\n",
      "strong multicollinearity or other numerical problems.\n"
     ]
    }
   ],
   "source": [
    "print(olsmodel1.summary())"
   ]
  },
  {
   "cell_type": "markdown",
   "id": "1d89e51e",
   "metadata": {},
   "source": [
    "- variables with high p-values: days_used, all of the brand_name_[X]s, os_Others, and os_iOS. "
   ]
  },
  {
   "cell_type": "code",
   "execution_count": 39,
   "id": "315ab20a",
   "metadata": {},
   "outputs": [
    {
     "name": "stdout",
     "output_type": "stream",
     "text": [
      "['const', 'screen_size', 'main_camera_mp', 'selfie_camera_mp', 'ram', 'battery', 'weight', 'release_year', 'new_price_log', 'brand_name_Lenovo', 'brand_name_Nokia', 'brand_name_Xiaomi', 'os_Others', '4g_yes']\n"
     ]
    }
   ],
   "source": [
    "#initial list of columns\n",
    "cols = x_train1.columns.tolist()\n",
    "\n",
    "#setting an initial max p-value\n",
    "max_p_value = 1\n",
    "\n",
    "while len(cols) > 0:\n",
    "    #defining the train set\n",
    "    x_train_aux = x_train1[cols]\n",
    "    \n",
    "    #fitting the model\n",
    "    model = sm.OLS(y_train, x_train_aux).fit()\n",
    "    \n",
    "    #getting the p-values and the maximum p-value\n",
    "    p_values = model.pvalues\n",
    "    max_p_value = max(p_values)\n",
    "    \n",
    "    #name of the variable with maximum p-value\n",
    "    feature_with_p_max = p_values.idxmax()\n",
    "    \n",
    "    if max_p_value > 0.05:\n",
    "        cols.remove(feature_with_p_max)\n",
    "    else: \n",
    "        break\n",
    "        \n",
    "selected_features = cols\n",
    "print(selected_features)"
   ]
  },
  {
   "cell_type": "code",
   "execution_count": 40,
   "id": "90cb65d8",
   "metadata": {},
   "outputs": [],
   "source": [
    "x_train2 = x_train1[[\"const\"] + selected_features]\n",
    "x_test2 = x_test1[[\"const\"] + selected_features]"
   ]
  },
  {
   "cell_type": "code",
   "execution_count": 41,
   "id": "dd7cb454",
   "metadata": {},
   "outputs": [
    {
     "name": "stdout",
     "output_type": "stream",
     "text": [
      "                            OLS Regression Results                            \n",
      "==============================================================================\n",
      "Dep. Variable:         used_price_log   R-squared:                       0.842\n",
      "Model:                            OLS   Adj. R-squared:                  0.842\n",
      "Method:                 Least Squares   F-statistic:                     988.3\n",
      "Date:                Tue, 06 Sep 2022   Prob (F-statistic):               0.00\n",
      "Time:                        15:02:06   Log-Likelihood:                 104.95\n",
      "No. Observations:                2417   AIC:                            -181.9\n",
      "Df Residuals:                    2403   BIC:                            -100.8\n",
      "Df Model:                          13                                         \n",
      "Covariance Type:            nonrobust                                         \n",
      "=====================================================================================\n",
      "                        coef    std err          t      P>|t|      [0.025      0.975]\n",
      "-------------------------------------------------------------------------------------\n",
      "const               -19.4495      3.643     -5.338      0.000     -26.594     -12.305\n",
      "const               -19.4495      3.643     -5.338      0.000     -26.594     -12.305\n",
      "screen_size           0.0256      0.003      7.760      0.000       0.019       0.032\n",
      "main_camera_mp        0.0212      0.001     15.318      0.000       0.018       0.024\n",
      "selfie_camera_mp      0.0140      0.001     13.199      0.000       0.012       0.016\n",
      "ram                   0.0177      0.004      4.012      0.000       0.009       0.026\n",
      "battery           -1.505e-05    7.1e-06     -2.119      0.034    -2.9e-05   -1.12e-06\n",
      "weight                0.0009      0.000      7.183      0.000       0.001       0.001\n",
      "release_year          0.0199      0.004      5.511      0.000       0.013       0.027\n",
      "new_price_log         0.4220      0.011     39.111      0.000       0.401       0.443\n",
      "brand_name_Lenovo     0.0491      0.021      2.287      0.022       0.007       0.091\n",
      "brand_name_Nokia      0.0665      0.031      2.175      0.030       0.007       0.127\n",
      "brand_name_Xiaomi     0.0892      0.026      3.496      0.000       0.039       0.139\n",
      "os_Others            -0.0710      0.030     -2.378      0.017      -0.129      -0.012\n",
      "4g_yes                0.0501      0.015      3.370      0.001       0.021       0.079\n",
      "==============================================================================\n",
      "Omnibus:                      232.465   Durbin-Watson:                   1.914\n",
      "Prob(Omnibus):                  0.000   Jarque-Bera (JB):              458.286\n",
      "Skew:                          -0.626   Prob(JB):                    3.05e-100\n",
      "Kurtosis:                       4.727   Cond. No.                     2.04e+17\n",
      "==============================================================================\n",
      "\n",
      "Notes:\n",
      "[1] Standard Errors assume that the covariance matrix of the errors is correctly specified.\n",
      "[2] The smallest eigenvalue is 8.85e-25. This might indicate that there are\n",
      "strong multicollinearity problems or that the design matrix is singular.\n"
     ]
    }
   ],
   "source": [
    "olsmod2 = sm.OLS(y_train, x_train2).fit()\n",
    "print(olsmod2.summary())"
   ]
  },
  {
   "cell_type": "markdown",
   "id": "cf0812ef",
   "metadata": {},
   "source": [
    "- After the function dropped some of the variables, none of the features have a p-value of greater than 0.05 anymore. \n",
    "- We will now consider x_train2 as the final set of predictor variables and olsmod2 as the final model for now. \n",
    "\n",
    "As of right now:\n",
    "- the adj. R squared value is 0.842. Therefore, our model is able to explain ~84% of the variance. \n",
    "- Our original adj R squared value in olsmodel1 where all of the variables were considered, was also 0.842. This shows that the variables we dropped were not affecting the model much overall.  "
   ]
  },
  {
   "cell_type": "markdown",
   "id": "405162f3",
   "metadata": {},
   "source": [
    "### 2. Testing for Linearity and 3. Testing for Independence of Error Terms\n",
    "Using olsmod2\n",
    "\n",
    "- To test for linearity and independence, we will make a plot of the fitted values vs residuals. If no pattern is found within that scatter plot, we can say that the model is linear and the residuals are indpendent. \n",
    "- If the models shows signs of non-linearity and the residuals are not independent, we can try transforming the variables to make the relationships linear. "
   ]
  },
  {
   "cell_type": "code",
   "execution_count": 42,
   "id": "1580d408",
   "metadata": {},
   "outputs": [
    {
     "data": {
      "text/html": [
       "<div>\n",
       "<style scoped>\n",
       "    .dataframe tbody tr th:only-of-type {\n",
       "        vertical-align: middle;\n",
       "    }\n",
       "\n",
       "    .dataframe tbody tr th {\n",
       "        vertical-align: top;\n",
       "    }\n",
       "\n",
       "    .dataframe thead th {\n",
       "        text-align: right;\n",
       "    }\n",
       "</style>\n",
       "<table border=\"1\" class=\"dataframe\">\n",
       "  <thead>\n",
       "    <tr style=\"text-align: right;\">\n",
       "      <th></th>\n",
       "      <th>Actual Values</th>\n",
       "      <th>Fitted Values</th>\n",
       "      <th>Residuals</th>\n",
       "    </tr>\n",
       "  </thead>\n",
       "  <tbody>\n",
       "    <tr>\n",
       "      <th>3026</th>\n",
       "      <td>4.087488</td>\n",
       "      <td>3.855295</td>\n",
       "      <td>0.232193</td>\n",
       "    </tr>\n",
       "    <tr>\n",
       "      <th>1525</th>\n",
       "      <td>4.448399</td>\n",
       "      <td>4.628844</td>\n",
       "      <td>-0.180445</td>\n",
       "    </tr>\n",
       "    <tr>\n",
       "      <th>1128</th>\n",
       "      <td>4.315353</td>\n",
       "      <td>4.280692</td>\n",
       "      <td>0.034660</td>\n",
       "    </tr>\n",
       "    <tr>\n",
       "      <th>3003</th>\n",
       "      <td>4.282068</td>\n",
       "      <td>4.206360</td>\n",
       "      <td>0.075709</td>\n",
       "    </tr>\n",
       "    <tr>\n",
       "      <th>2907</th>\n",
       "      <td>4.456438</td>\n",
       "      <td>4.470310</td>\n",
       "      <td>-0.013872</td>\n",
       "    </tr>\n",
       "  </tbody>\n",
       "</table>\n",
       "</div>"
      ],
      "text/plain": [
       "      Actual Values  Fitted Values  Residuals\n",
       "3026       4.087488       3.855295   0.232193\n",
       "1525       4.448399       4.628844  -0.180445\n",
       "1128       4.315353       4.280692   0.034660\n",
       "3003       4.282068       4.206360   0.075709\n",
       "2907       4.456438       4.470310  -0.013872"
      ]
     },
     "execution_count": 42,
     "metadata": {},
     "output_type": "execute_result"
    }
   ],
   "source": [
    "#creating a dataframe with actual, fitted residual values\n",
    "df_pred = pd.DataFrame()\n",
    "\n",
    "df_pred[\"Actual Values\"] = y_train #actual values\n",
    "df_pred[\"Fitted Values\"] = olsmod2.fittedvalues #predicted values\n",
    "df_pred[\"Residuals\"] = olsmod2.resid #residuals\n",
    "\n",
    "df_pred.head()"
   ]
  },
  {
   "cell_type": "code",
   "execution_count": 43,
   "id": "11dda699",
   "metadata": {},
   "outputs": [
    {
     "data": {
      "image/png": "[encoded data removed]",
      "text/plain": [
       "<Figure size 432x288 with 1 Axes>"
      ]
     },
     "metadata": {},
     "output_type": "display_data"
    }
   ],
   "source": [
    "#plotting the fitted values vs residuals\n",
    "sns.residplot(data = df_pred, x=\"Fitted Values\", y=\"Residuals\", color=\"blue\", lowess=True)\n",
    "\n",
    "plt.xlabel(\"Fitted Values\")\n",
    "plt.ylabel(\"Residuals\")\n",
    "plt.title(\"Fitted vs Residual plot\")\n",
    "plt.show()"
   ]
  },
  {
   "cell_type": "markdown",
   "id": "7cf2e53c",
   "metadata": {},
   "source": [
    "- The scatter plot shows no pattern among the points when plotted by residuals (errors) vs fitted values (predicted values). \n",
    "- This means that the model is not capturing any non-linear effects. \n",
    "- Since the scatter plot shows no pattern, we can consider the assumptions of linearity and independence satisfied. "
   ]
  },
  {
   "cell_type": "markdown",
   "id": "cf9af299",
   "metadata": {},
   "source": [
    "### 4. Testing for Normality\n",
    "- We will do this by plotting the residuals using a histogram and utilizing a QQ plot.\n",
    "- We will also double check for normality using a Shapiro-Wilk test.  "
   ]
  },
  {
   "cell_type": "code",
   "execution_count": 44,
   "id": "88beab4d",
   "metadata": {},
   "outputs": [
    {
     "data": {
      "image/png": "[encoded data removed]",
      "text/plain": [
       "<Figure size 432x288 with 1 Axes>"
      ]
     },
     "metadata": {},
     "output_type": "display_data"
    }
   ],
   "source": [
    "sns.histplot(data=df_pred, x=\"Residuals\", kde=True)\n",
    "plt.title(\"Normality of residuals\")\n",
    "plt.show()"
   ]
  },
  {
   "cell_type": "markdown",
   "id": "3fb73f6f",
   "metadata": {},
   "source": [
    "- The histogram of residuals has a bell-shape for the most part. The shape is very slightly skewed to the left but is mostly symmetrical. \n",
    "- We will further confirm normality with a QQ plot"
   ]
  },
  {
   "cell_type": "code",
   "execution_count": 45,
   "id": "ec7084c7",
   "metadata": {},
   "outputs": [
    {
     "data": {
      "image/png": "[encoded data removed]",
      "text/plain": [
       "<Figure size 432x288 with 1 Axes>"
      ]
     },
     "metadata": {},
     "output_type": "display_data"
    }
   ],
   "source": [
    "#creating a QQ plot of the residuals\n",
    "stats.probplot(df_pred[\"Residuals\"], dist=\"norm\", plot=pylab)\n",
    "plt.show()"
   ]
  },
  {
   "cell_type": "code",
   "execution_count": 46,
   "id": "8f70b444",
   "metadata": {},
   "outputs": [
    {
     "data": {
      "text/plain": [
       "-0.6266423573313972"
      ]
     },
     "execution_count": 46,
     "metadata": {},
     "output_type": "execute_result"
    }
   ],
   "source": [
    "df_pred[\"Residuals\"].skew()"
   ]
  },
  {
   "cell_type": "markdown",
   "id": "94b10a1a",
   "metadata": {},
   "source": [
    "- The residuals follow a straight line more or less, except for the tails. \n",
    "- The skewness value (-0.627) shows that the data is moderately skewed. But since this value is not greater than -1, we can consider this amount of skewness acceptable for the model. \n",
    "- This seems pretty normal but we will double check using a Shapiro-Wilk test. "
   ]
  },
  {
   "cell_type": "code",
   "execution_count": 47,
   "id": "7614bd18",
   "metadata": {},
   "outputs": [
    {
     "data": {
      "text/plain": [
       "ShapiroResult(statistic=0.9690815806388855, pvalue=2.105690889523832e-22)"
      ]
     },
     "execution_count": 47,
     "metadata": {},
     "output_type": "execute_result"
    }
   ],
   "source": [
    "#Running a Shapiro-Wilk test\n",
    "stats.shapiro(df_pred[\"Residuals\"])"
   ]
  },
  {
   "cell_type": "markdown",
   "id": "346c8714",
   "metadata": {},
   "source": [
    "For the Shapiro-Wilk test, we will be testing the following hypotheses:  \n",
    "    - Null hypothesis: residuals are normally distributed\n",
    "    - Alt hypothesis: residuals are not normally distributed\n",
    "- Since the p-value is less than 0.05, we can reject the null hypothesis of normally distributed residuals. \n",
    "- The residuals are technically not normal according to the test but as an approximation, we can accept this as is. \n",
    "\n",
    "\n",
    "The distribution is close enough to normality to deem the assumption as satisfied. "
   ]
  },
  {
   "cell_type": "markdown",
   "id": "6d58b8da",
   "metadata": {},
   "source": [
    "### 5. Testing for Homoscedasticity\n",
    "\n",
    "To test for homoscedasticity (lack of heteroscedasticity) using a Goldfeldquandt test. \n",
    "\n",
    "- For the test, we will be using the following hypotheses: \n",
    "    - Null hypothesis: residuals are homoscedastic\n",
    "    - Alt hypothesis: residuals have heteroscedasticity"
   ]
  },
  {
   "cell_type": "code",
   "execution_count": 48,
   "id": "0613bab4",
   "metadata": {},
   "outputs": [
    {
     "data": {
      "text/plain": [
       "[('F statistic', 1.0431128107825935), ('p-value', 0.23292738306794344)]"
      ]
     },
     "execution_count": 48,
     "metadata": {},
     "output_type": "execute_result"
    }
   ],
   "source": [
    "name = [\"F statistic\", \"p-value\"]\n",
    "test = sms.het_goldfeldquandt(df_pred[\"Residuals\"], x_train2)\n",
    "lzip(name, test)"
   ]
  },
  {
   "cell_type": "markdown",
   "id": "8c7c835a",
   "metadata": {},
   "source": [
    "- Since the p-value is greater than 0.05, we fail to reject the null hypothesis. Therefore, the residuals are homoscedastic. \n",
    "- The assumption of homoscedasticity is therefore satisfied. "
   ]
  },
  {
   "cell_type": "markdown",
   "id": "99e9b66e",
   "metadata": {},
   "source": [
    "## Final Model Summary\n",
    "\n",
    "Now that all of the assumptions of linear regression are checked and satisfied, we can will create a final regression model summary using olsmod2, x_train2, x_test2, y_train, and y_test. "
   ]
  },
  {
   "cell_type": "code",
   "execution_count": 49,
   "id": "409c462f",
   "metadata": {},
   "outputs": [
    {
     "data": {
      "text/html": [
       "<div>\n",
       "<style scoped>\n",
       "    .dataframe tbody tr th:only-of-type {\n",
       "        vertical-align: middle;\n",
       "    }\n",
       "\n",
       "    .dataframe tbody tr th {\n",
       "        vertical-align: top;\n",
       "    }\n",
       "\n",
       "    .dataframe thead th {\n",
       "        text-align: right;\n",
       "    }\n",
       "</style>\n",
       "<table border=\"1\" class=\"dataframe\">\n",
       "  <thead>\n",
       "    <tr style=\"text-align: right;\">\n",
       "      <th></th>\n",
       "      <th>Actual</th>\n",
       "      <th>Predicted</th>\n",
       "    </tr>\n",
       "  </thead>\n",
       "  <tbody>\n",
       "    <tr>\n",
       "      <th>1995</th>\n",
       "      <td>4.566741</td>\n",
       "      <td>4.373852</td>\n",
       "    </tr>\n",
       "    <tr>\n",
       "      <th>2341</th>\n",
       "      <td>3.696103</td>\n",
       "      <td>3.962951</td>\n",
       "    </tr>\n",
       "    <tr>\n",
       "      <th>1913</th>\n",
       "      <td>3.592093</td>\n",
       "      <td>3.691084</td>\n",
       "    </tr>\n",
       "    <tr>\n",
       "      <th>688</th>\n",
       "      <td>4.306495</td>\n",
       "      <td>4.116870</td>\n",
       "    </tr>\n",
       "    <tr>\n",
       "      <th>650</th>\n",
       "      <td>4.522115</td>\n",
       "      <td>5.137584</td>\n",
       "    </tr>\n",
       "    <tr>\n",
       "      <th>2291</th>\n",
       "      <td>4.259294</td>\n",
       "      <td>4.395320</td>\n",
       "    </tr>\n",
       "    <tr>\n",
       "      <th>40</th>\n",
       "      <td>4.997685</td>\n",
       "      <td>5.434438</td>\n",
       "    </tr>\n",
       "    <tr>\n",
       "      <th>1884</th>\n",
       "      <td>3.875359</td>\n",
       "      <td>4.054813</td>\n",
       "    </tr>\n",
       "    <tr>\n",
       "      <th>2538</th>\n",
       "      <td>4.206631</td>\n",
       "      <td>4.047358</td>\n",
       "    </tr>\n",
       "    <tr>\n",
       "      <th>45</th>\n",
       "      <td>5.380450</td>\n",
       "      <td>5.276783</td>\n",
       "    </tr>\n",
       "  </tbody>\n",
       "</table>\n",
       "</div>"
      ],
      "text/plain": [
       "        Actual  Predicted\n",
       "1995  4.566741   4.373852\n",
       "2341  3.696103   3.962951\n",
       "1913  3.592093   3.691084\n",
       "688   4.306495   4.116870\n",
       "650   4.522115   5.137584\n",
       "2291  4.259294   4.395320\n",
       "40    4.997685   5.434438\n",
       "1884  3.875359   4.054813\n",
       "2538  4.206631   4.047358\n",
       "45    5.380450   5.276783"
      ]
     },
     "execution_count": 49,
     "metadata": {},
     "output_type": "execute_result"
    }
   ],
   "source": [
    "#predictions on the test set\n",
    "pred = olsmod2.predict(x_test2)\n",
    "\n",
    "#creating a new dataframe with the actual and predicted values\n",
    "df_pred_test = pd.DataFrame({\"Actual\": y_test, \"Predicted\": pred})\n",
    "df_pred_test.sample(10, random_state=1)"
   ]
  },
  {
   "cell_type": "markdown",
   "id": "f88a4ec8",
   "metadata": {},
   "source": [
    "- Using our model, the actual and predicted values are very similar and comparable. This means that we have created an effective and reliable model. \n",
    "- A bargraph will be produced to show visualize the comparison between the actual and predicted values. Because the number of records is so large, we will only be taking a sample of 25 records to use within the bargraph. "
   ]
  },
  {
   "cell_type": "code",
   "execution_count": 50,
   "id": "6f30cc7a",
   "metadata": {},
   "outputs": [
    {
     "data": {
      "image/png": "[encoded data removed]",
      "text/plain": [
       "<Figure size 1080x504 with 1 Axes>"
      ]
     },
     "metadata": {},
     "output_type": "display_data"
    }
   ],
   "source": [
    "df2 = df_pred_test.sample(25, random_state=1)\n",
    "df2.plot(kind = \"bar\", figsize = (15,7))\n",
    "plt.show()"
   ]
  },
  {
   "cell_type": "code",
   "execution_count": 51,
   "id": "0d180232",
   "metadata": {},
   "outputs": [
    {
     "name": "stdout",
     "output_type": "stream",
     "text": [
      "Training Performance\n",
      "\n"
     ]
    },
    {
     "data": {
      "text/html": [
       "<div>\n",
       "<style scoped>\n",
       "    .dataframe tbody tr th:only-of-type {\n",
       "        vertical-align: middle;\n",
       "    }\n",
       "\n",
       "    .dataframe tbody tr th {\n",
       "        vertical-align: top;\n",
       "    }\n",
       "\n",
       "    .dataframe thead th {\n",
       "        text-align: right;\n",
       "    }\n",
       "</style>\n",
       "<table border=\"1\" class=\"dataframe\">\n",
       "  <thead>\n",
       "    <tr style=\"text-align: right;\">\n",
       "      <th></th>\n",
       "      <th>RMSE</th>\n",
       "      <th>MAE</th>\n",
       "      <th>R-squared</th>\n",
       "      <th>Adj. R-squared</th>\n",
       "      <th>MAPE</th>\n",
       "    </tr>\n",
       "  </thead>\n",
       "  <tbody>\n",
       "    <tr>\n",
       "      <th>0</th>\n",
       "      <td>25.586068</td>\n",
       "      <td>16.732904</td>\n",
       "      <td>0.787221</td>\n",
       "      <td>0.785892</td>\n",
       "      <td>19.037828</td>\n",
       "    </tr>\n",
       "  </tbody>\n",
       "</table>\n",
       "</div>"
      ],
      "text/plain": [
       "        RMSE        MAE  R-squared  Adj. R-squared       MAPE\n",
       "0  25.586068  16.732904   0.787221        0.785892  19.037828"
      ]
     },
     "execution_count": 51,
     "metadata": {},
     "output_type": "execute_result"
    }
   ],
   "source": [
    "# Checking the model performance on the train set (70% of the data)\n",
    "print(\"Training Performance\\n\")\n",
    "ols_final_train = model_performance_regression(olsmod2, x_train2, y_train)\n",
    "ols_final_train"
   ]
  },
  {
   "cell_type": "code",
   "execution_count": 52,
   "id": "d185a903",
   "metadata": {},
   "outputs": [
    {
     "name": "stdout",
     "output_type": "stream",
     "text": [
      "Test Performance\n",
      "\n"
     ]
    },
    {
     "data": {
      "text/html": [
       "<div>\n",
       "<style scoped>\n",
       "    .dataframe tbody tr th:only-of-type {\n",
       "        vertical-align: middle;\n",
       "    }\n",
       "\n",
       "    .dataframe tbody tr th {\n",
       "        vertical-align: top;\n",
       "    }\n",
       "\n",
       "    .dataframe thead th {\n",
       "        text-align: right;\n",
       "    }\n",
       "</style>\n",
       "<table border=\"1\" class=\"dataframe\">\n",
       "  <thead>\n",
       "    <tr style=\"text-align: right;\">\n",
       "      <th></th>\n",
       "      <th>RMSE</th>\n",
       "      <th>MAE</th>\n",
       "      <th>R-squared</th>\n",
       "      <th>Adj. R-squared</th>\n",
       "      <th>MAPE</th>\n",
       "    </tr>\n",
       "  </thead>\n",
       "  <tbody>\n",
       "    <tr>\n",
       "      <th>0</th>\n",
       "      <td>24.089251</td>\n",
       "      <td>16.476979</td>\n",
       "      <td>0.792189</td>\n",
       "      <td>0.789136</td>\n",
       "      <td>19.265007</td>\n",
       "    </tr>\n",
       "  </tbody>\n",
       "</table>\n",
       "</div>"
      ],
      "text/plain": [
       "        RMSE        MAE  R-squared  Adj. R-squared       MAPE\n",
       "0  24.089251  16.476979   0.792189        0.789136  19.265007"
      ]
     },
     "execution_count": 52,
     "metadata": {},
     "output_type": "execute_result"
    }
   ],
   "source": [
    "# Checking the model performance on the test set (30% of the data)\n",
    "print(\"Test Performance\\n\")\n",
    "ols_final_test = model_performance_regression(olsmod2, x_test2, y_test)\n",
    "ols_final_test"
   ]
  },
  {
   "cell_type": "markdown",
   "id": "2eb14bca",
   "metadata": {},
   "source": [
    "- The model is able to explain 78% of the variation in the data. \n",
    "- The train and test RMSE and MAE are close in value, indicating that our model is not overfit. \n",
    "- The MAPE suggests that we can predict within 19% of the used price. \n",
    "- Our model is a good tool for prediction and inference. "
   ]
  },
  {
   "cell_type": "code",
   "execution_count": 53,
   "id": "dec1d2b3",
   "metadata": {},
   "outputs": [
    {
     "name": "stdout",
     "output_type": "stream",
     "text": [
      "                            OLS Regression Results                            \n",
      "==============================================================================\n",
      "Dep. Variable:         used_price_log   R-squared:                       0.842\n",
      "Model:                            OLS   Adj. R-squared:                  0.842\n",
      "Method:                 Least Squares   F-statistic:                     988.3\n",
      "Date:                Tue, 06 Sep 2022   Prob (F-statistic):               0.00\n",
      "Time:                        15:02:08   Log-Likelihood:                 104.95\n",
      "No. Observations:                2417   AIC:                            -181.9\n",
      "Df Residuals:                    2403   BIC:                            -100.8\n",
      "Df Model:                          13                                         \n",
      "Covariance Type:            nonrobust                                         \n",
      "=====================================================================================\n",
      "                        coef    std err          t      P>|t|      [0.025      0.975]\n",
      "-------------------------------------------------------------------------------------\n",
      "const               -19.4495      3.643     -5.338      0.000     -26.594     -12.305\n",
      "const               -19.4495      3.643     -5.338      0.000     -26.594     -12.305\n",
      "screen_size           0.0256      0.003      7.760      0.000       0.019       0.032\n",
      "main_camera_mp        0.0212      0.001     15.318      0.000       0.018       0.024\n",
      "selfie_camera_mp      0.0140      0.001     13.199      0.000       0.012       0.016\n",
      "ram                   0.0177      0.004      4.012      0.000       0.009       0.026\n",
      "battery           -1.505e-05    7.1e-06     -2.119      0.034    -2.9e-05   -1.12e-06\n",
      "weight                0.0009      0.000      7.183      0.000       0.001       0.001\n",
      "release_year          0.0199      0.004      5.511      0.000       0.013       0.027\n",
      "new_price_log         0.4220      0.011     39.111      0.000       0.401       0.443\n",
      "brand_name_Lenovo     0.0491      0.021      2.287      0.022       0.007       0.091\n",
      "brand_name_Nokia      0.0665      0.031      2.175      0.030       0.007       0.127\n",
      "brand_name_Xiaomi     0.0892      0.026      3.496      0.000       0.039       0.139\n",
      "os_Others            -0.0710      0.030     -2.378      0.017      -0.129      -0.012\n",
      "4g_yes                0.0501      0.015      3.370      0.001       0.021       0.079\n",
      "==============================================================================\n",
      "Omnibus:                      232.465   Durbin-Watson:                   1.914\n",
      "Prob(Omnibus):                  0.000   Jarque-Bera (JB):              458.286\n",
      "Skew:                          -0.626   Prob(JB):                    3.05e-100\n",
      "Kurtosis:                       4.727   Cond. No.                     2.04e+17\n",
      "==============================================================================\n",
      "\n",
      "Notes:\n",
      "[1] Standard Errors assume that the covariance matrix of the errors is correctly specified.\n",
      "[2] The smallest eigenvalue is 8.85e-25. This might indicate that there are\n",
      "strong multicollinearity problems or that the design matrix is singular.\n"
     ]
    }
   ],
   "source": [
    "#recreating the final statsmodel model and summary\n",
    "olsmodel_final = sm.OLS(y_train, x_train2).fit()\n",
    "print(olsmodel_final.summary())"
   ]
  },
  {
   "cell_type": "markdown",
   "id": "5b4b8b92",
   "metadata": {},
   "source": [
    "## Actionable Insights and Recommendations\n",
    "\n",
    "Significance of predictors and key takeaways:\n",
    "- Most of the predictor variables have positive coefficients. This means that as these variables increase, the used price of the device also increases. For example, for every 1 unit increase in screen size (1 cm), the value of the device when being sold used increases by 0.025 euros. \n",
    "- Newer devices (increased release year) increases the value of the device when sold. \n",
    "- As screen size, main camera megapixels, selfie camera megapixels, internal ram, weight, and release year increase, the value of the device when being sold used also increases. \n",
    "- Battery life has a negative coefficient value (but the coefficient value is very small). This means that as the overall battery life in mAhs increases, the price when sold used tends to decrease every so slightly. Because of this, we can essentially assume that increased battery capacity should not be a selling point for used devices as it really does not increase the value at all. \n",
    "- Devices made by Lenovo, Nokia, and Xiaomi actually have a positive influence on the used price compared to all of the other the brands that were dropped while building the model. From a sales standpoint, these 3 brands have a slight influence on the resale value of the used device. \n",
    "- Os_Others also has a negative coefficient. This means that essentially if devices do not have a Android, iOS, or Windows operating system, this brings down the price of the device when sold used. Devices that have a more well-known OS have better resale value. \n",
    "- new_price_log has the highest coefficient value than any other variable. This means that for every 1 unit (1 euro) increase in the price of the device when it is brand new, the used price increases by 0.42 euros. This makes sense given the nature of selling anything used - the more expensive the object was to buy originally, the higher value it holds, and the more expensive it was still be when sold used. \n",
    "    - From a business standpoint, devices that are more expensive when new are going to be more valuable when sold used. \n",
    "    - The new price of the device has the biggest influence on the price when sold used compared to any other trait. "
   ]
  }
 ],
 "metadata": {
  "kernelspec": {
   "display_name": "Python 3",
   "language": "python",
   "name": "python3"
  },
  "language_info": {
   "codemirror_mode": {
    "name": "ipython",
    "version": 3
   },
   "file_extension": ".py",
   "mimetype": "text/x-python",
   "name": "python",
   "nbconvert_exporter": "python",
   "pygments_lexer": "ipython3",
   "version": "3.8.8"
  }
 },
 "nbformat": 4,
 "nbformat_minor": 5
}
